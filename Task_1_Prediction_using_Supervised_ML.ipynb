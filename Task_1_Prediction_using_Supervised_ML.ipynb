{
  "nbformat": 4,
  "nbformat_minor": 0,
  "metadata": {
    "colab": {
      "provenance": [],
      "authorship_tag": "ABX9TyP2GypeDaGHeCYWAPcFWd+j",
      "include_colab_link": true
    },
    "kernelspec": {
      "name": "python3",
      "display_name": "Python 3"
    },
    "language_info": {
      "name": "python"
    }
  },
  "cells": [
    {
      "cell_type": "markdown",
      "metadata": {
        "id": "view-in-github",
        "colab_type": "text"
      },
      "source": [
        "<a href=\"https://colab.research.google.com/github/Harshit0722/TSF-GRIP/blob/main/Task_1_Prediction_using_Supervised_ML.ipynb\" target=\"_parent\"><img src=\"https://colab.research.google.com/assets/colab-badge.svg\" alt=\"Open In Colab\"/></a>"
      ]
    },
    {
      "cell_type": "markdown",
      "source": [
        "###Importing Necessary Libraries"
      ],
      "metadata": {
        "id": "x4XPaCdV9NX3"
      }
    },
    {
      "cell_type": "code",
      "execution_count": 1,
      "metadata": {
        "id": "q8HX2L7x4H7s"
      },
      "outputs": [],
      "source": [
        "import pandas as pd\n",
        "import numpy as np\n",
        "import matplotlib.pyplot as plt\n",
        "import sklearn"
      ]
    },
    {
      "cell_type": "markdown",
      "source": [
        "###Data Loading and Analysis"
      ],
      "metadata": {
        "id": "hHk2OZv59QLJ"
      }
    },
    {
      "cell_type": "code",
      "source": [
        "data = pd.read_csv('/content/Student score and sleep hours dataset.csv')"
      ],
      "metadata": {
        "id": "VGS-Njhr44Fs"
      },
      "execution_count": 2,
      "outputs": []
    },
    {
      "cell_type": "code",
      "source": [
        "data.describe()"
      ],
      "metadata": {
        "colab": {
          "base_uri": "https://localhost:8080/",
          "height": 300
        },
        "id": "rk1qrG765CLM",
        "outputId": "a8165fb1-fb01-4696-f8c3-93405ba00e75"
      },
      "execution_count": 3,
      "outputs": [
        {
          "output_type": "execute_result",
          "data": {
            "text/plain": [
              "           Hours     Scores\n",
              "count  25.000000  25.000000\n",
              "mean    5.012000  51.480000\n",
              "std     2.525094  25.286887\n",
              "min     1.100000  17.000000\n",
              "25%     2.700000  30.000000\n",
              "50%     4.800000  47.000000\n",
              "75%     7.400000  75.000000\n",
              "max     9.200000  95.000000"
            ],
            "text/html": [
              "\n",
              "  <div id=\"df-5f321f3b-cba2-428e-8a2b-7ff221a36fb6\" class=\"colab-df-container\">\n",
              "    <div>\n",
              "<style scoped>\n",
              "    .dataframe tbody tr th:only-of-type {\n",
              "        vertical-align: middle;\n",
              "    }\n",
              "\n",
              "    .dataframe tbody tr th {\n",
              "        vertical-align: top;\n",
              "    }\n",
              "\n",
              "    .dataframe thead th {\n",
              "        text-align: right;\n",
              "    }\n",
              "</style>\n",
              "<table border=\"1\" class=\"dataframe\">\n",
              "  <thead>\n",
              "    <tr style=\"text-align: right;\">\n",
              "      <th></th>\n",
              "      <th>Hours</th>\n",
              "      <th>Scores</th>\n",
              "    </tr>\n",
              "  </thead>\n",
              "  <tbody>\n",
              "    <tr>\n",
              "      <th>count</th>\n",
              "      <td>25.000000</td>\n",
              "      <td>25.000000</td>\n",
              "    </tr>\n",
              "    <tr>\n",
              "      <th>mean</th>\n",
              "      <td>5.012000</td>\n",
              "      <td>51.480000</td>\n",
              "    </tr>\n",
              "    <tr>\n",
              "      <th>std</th>\n",
              "      <td>2.525094</td>\n",
              "      <td>25.286887</td>\n",
              "    </tr>\n",
              "    <tr>\n",
              "      <th>min</th>\n",
              "      <td>1.100000</td>\n",
              "      <td>17.000000</td>\n",
              "    </tr>\n",
              "    <tr>\n",
              "      <th>25%</th>\n",
              "      <td>2.700000</td>\n",
              "      <td>30.000000</td>\n",
              "    </tr>\n",
              "    <tr>\n",
              "      <th>50%</th>\n",
              "      <td>4.800000</td>\n",
              "      <td>47.000000</td>\n",
              "    </tr>\n",
              "    <tr>\n",
              "      <th>75%</th>\n",
              "      <td>7.400000</td>\n",
              "      <td>75.000000</td>\n",
              "    </tr>\n",
              "    <tr>\n",
              "      <th>max</th>\n",
              "      <td>9.200000</td>\n",
              "      <td>95.000000</td>\n",
              "    </tr>\n",
              "  </tbody>\n",
              "</table>\n",
              "</div>\n",
              "    <div class=\"colab-df-buttons\">\n",
              "\n",
              "  <div class=\"colab-df-container\">\n",
              "    <button class=\"colab-df-convert\" onclick=\"convertToInteractive('df-5f321f3b-cba2-428e-8a2b-7ff221a36fb6')\"\n",
              "            title=\"Convert this dataframe to an interactive table.\"\n",
              "            style=\"display:none;\">\n",
              "\n",
              "  <svg xmlns=\"http://www.w3.org/2000/svg\" height=\"24px\" viewBox=\"0 -960 960 960\">\n",
              "    <path d=\"M120-120v-720h720v720H120Zm60-500h600v-160H180v160Zm220 220h160v-160H400v160Zm0 220h160v-160H400v160ZM180-400h160v-160H180v160Zm440 0h160v-160H620v160ZM180-180h160v-160H180v160Zm440 0h160v-160H620v160Z\"/>\n",
              "  </svg>\n",
              "    </button>\n",
              "\n",
              "  <style>\n",
              "    .colab-df-container {\n",
              "      display:flex;\n",
              "      gap: 12px;\n",
              "    }\n",
              "\n",
              "    .colab-df-convert {\n",
              "      background-color: #E8F0FE;\n",
              "      border: none;\n",
              "      border-radius: 50%;\n",
              "      cursor: pointer;\n",
              "      display: none;\n",
              "      fill: #1967D2;\n",
              "      height: 32px;\n",
              "      padding: 0 0 0 0;\n",
              "      width: 32px;\n",
              "    }\n",
              "\n",
              "    .colab-df-convert:hover {\n",
              "      background-color: #E2EBFA;\n",
              "      box-shadow: 0px 1px 2px rgba(60, 64, 67, 0.3), 0px 1px 3px 1px rgba(60, 64, 67, 0.15);\n",
              "      fill: #174EA6;\n",
              "    }\n",
              "\n",
              "    .colab-df-buttons div {\n",
              "      margin-bottom: 4px;\n",
              "    }\n",
              "\n",
              "    [theme=dark] .colab-df-convert {\n",
              "      background-color: #3B4455;\n",
              "      fill: #D2E3FC;\n",
              "    }\n",
              "\n",
              "    [theme=dark] .colab-df-convert:hover {\n",
              "      background-color: #434B5C;\n",
              "      box-shadow: 0px 1px 3px 1px rgba(0, 0, 0, 0.15);\n",
              "      filter: drop-shadow(0px 1px 2px rgba(0, 0, 0, 0.3));\n",
              "      fill: #FFFFFF;\n",
              "    }\n",
              "  </style>\n",
              "\n",
              "    <script>\n",
              "      const buttonEl =\n",
              "        document.querySelector('#df-5f321f3b-cba2-428e-8a2b-7ff221a36fb6 button.colab-df-convert');\n",
              "      buttonEl.style.display =\n",
              "        google.colab.kernel.accessAllowed ? 'block' : 'none';\n",
              "\n",
              "      async function convertToInteractive(key) {\n",
              "        const element = document.querySelector('#df-5f321f3b-cba2-428e-8a2b-7ff221a36fb6');\n",
              "        const dataTable =\n",
              "          await google.colab.kernel.invokeFunction('convertToInteractive',\n",
              "                                                    [key], {});\n",
              "        if (!dataTable) return;\n",
              "\n",
              "        const docLinkHtml = 'Like what you see? Visit the ' +\n",
              "          '<a target=\"_blank\" href=https://colab.research.google.com/notebooks/data_table.ipynb>data table notebook</a>'\n",
              "          + ' to learn more about interactive tables.';\n",
              "        element.innerHTML = '';\n",
              "        dataTable['output_type'] = 'display_data';\n",
              "        await google.colab.output.renderOutput(dataTable, element);\n",
              "        const docLink = document.createElement('div');\n",
              "        docLink.innerHTML = docLinkHtml;\n",
              "        element.appendChild(docLink);\n",
              "      }\n",
              "    </script>\n",
              "  </div>\n",
              "\n",
              "\n",
              "<div id=\"df-1dbc5b88-b3a1-4744-b6d9-eee6faec113a\">\n",
              "  <button class=\"colab-df-quickchart\" onclick=\"quickchart('df-1dbc5b88-b3a1-4744-b6d9-eee6faec113a')\"\n",
              "            title=\"Suggest charts.\"\n",
              "            style=\"display:none;\">\n",
              "\n",
              "<svg xmlns=\"http://www.w3.org/2000/svg\" height=\"24px\"viewBox=\"0 0 24 24\"\n",
              "     width=\"24px\">\n",
              "    <g>\n",
              "        <path d=\"M19 3H5c-1.1 0-2 .9-2 2v14c0 1.1.9 2 2 2h14c1.1 0 2-.9 2-2V5c0-1.1-.9-2-2-2zM9 17H7v-7h2v7zm4 0h-2V7h2v10zm4 0h-2v-4h2v4z\"/>\n",
              "    </g>\n",
              "</svg>\n",
              "  </button>\n",
              "\n",
              "<style>\n",
              "  .colab-df-quickchart {\n",
              "      --bg-color: #E8F0FE;\n",
              "      --fill-color: #1967D2;\n",
              "      --hover-bg-color: #E2EBFA;\n",
              "      --hover-fill-color: #174EA6;\n",
              "      --disabled-fill-color: #AAA;\n",
              "      --disabled-bg-color: #DDD;\n",
              "  }\n",
              "\n",
              "  [theme=dark] .colab-df-quickchart {\n",
              "      --bg-color: #3B4455;\n",
              "      --fill-color: #D2E3FC;\n",
              "      --hover-bg-color: #434B5C;\n",
              "      --hover-fill-color: #FFFFFF;\n",
              "      --disabled-bg-color: #3B4455;\n",
              "      --disabled-fill-color: #666;\n",
              "  }\n",
              "\n",
              "  .colab-df-quickchart {\n",
              "    background-color: var(--bg-color);\n",
              "    border: none;\n",
              "    border-radius: 50%;\n",
              "    cursor: pointer;\n",
              "    display: none;\n",
              "    fill: var(--fill-color);\n",
              "    height: 32px;\n",
              "    padding: 0;\n",
              "    width: 32px;\n",
              "  }\n",
              "\n",
              "  .colab-df-quickchart:hover {\n",
              "    background-color: var(--hover-bg-color);\n",
              "    box-shadow: 0 1px 2px rgba(60, 64, 67, 0.3), 0 1px 3px 1px rgba(60, 64, 67, 0.15);\n",
              "    fill: var(--button-hover-fill-color);\n",
              "  }\n",
              "\n",
              "  .colab-df-quickchart-complete:disabled,\n",
              "  .colab-df-quickchart-complete:disabled:hover {\n",
              "    background-color: var(--disabled-bg-color);\n",
              "    fill: var(--disabled-fill-color);\n",
              "    box-shadow: none;\n",
              "  }\n",
              "\n",
              "  .colab-df-spinner {\n",
              "    border: 2px solid var(--fill-color);\n",
              "    border-color: transparent;\n",
              "    border-bottom-color: var(--fill-color);\n",
              "    animation:\n",
              "      spin 1s steps(1) infinite;\n",
              "  }\n",
              "\n",
              "  @keyframes spin {\n",
              "    0% {\n",
              "      border-color: transparent;\n",
              "      border-bottom-color: var(--fill-color);\n",
              "      border-left-color: var(--fill-color);\n",
              "    }\n",
              "    20% {\n",
              "      border-color: transparent;\n",
              "      border-left-color: var(--fill-color);\n",
              "      border-top-color: var(--fill-color);\n",
              "    }\n",
              "    30% {\n",
              "      border-color: transparent;\n",
              "      border-left-color: var(--fill-color);\n",
              "      border-top-color: var(--fill-color);\n",
              "      border-right-color: var(--fill-color);\n",
              "    }\n",
              "    40% {\n",
              "      border-color: transparent;\n",
              "      border-right-color: var(--fill-color);\n",
              "      border-top-color: var(--fill-color);\n",
              "    }\n",
              "    60% {\n",
              "      border-color: transparent;\n",
              "      border-right-color: var(--fill-color);\n",
              "    }\n",
              "    80% {\n",
              "      border-color: transparent;\n",
              "      border-right-color: var(--fill-color);\n",
              "      border-bottom-color: var(--fill-color);\n",
              "    }\n",
              "    90% {\n",
              "      border-color: transparent;\n",
              "      border-bottom-color: var(--fill-color);\n",
              "    }\n",
              "  }\n",
              "</style>\n",
              "\n",
              "  <script>\n",
              "    async function quickchart(key) {\n",
              "      const quickchartButtonEl =\n",
              "        document.querySelector('#' + key + ' button');\n",
              "      quickchartButtonEl.disabled = true;  // To prevent multiple clicks.\n",
              "      quickchartButtonEl.classList.add('colab-df-spinner');\n",
              "      try {\n",
              "        const charts = await google.colab.kernel.invokeFunction(\n",
              "            'suggestCharts', [key], {});\n",
              "      } catch (error) {\n",
              "        console.error('Error during call to suggestCharts:', error);\n",
              "      }\n",
              "      quickchartButtonEl.classList.remove('colab-df-spinner');\n",
              "      quickchartButtonEl.classList.add('colab-df-quickchart-complete');\n",
              "    }\n",
              "    (() => {\n",
              "      let quickchartButtonEl =\n",
              "        document.querySelector('#df-1dbc5b88-b3a1-4744-b6d9-eee6faec113a button');\n",
              "      quickchartButtonEl.style.display =\n",
              "        google.colab.kernel.accessAllowed ? 'block' : 'none';\n",
              "    })();\n",
              "  </script>\n",
              "</div>\n",
              "    </div>\n",
              "  </div>\n"
            ]
          },
          "metadata": {},
          "execution_count": 3
        }
      ]
    },
    {
      "cell_type": "code",
      "source": [
        "data.head(10)"
      ],
      "metadata": {
        "colab": {
          "base_uri": "https://localhost:8080/",
          "height": 363
        },
        "id": "VmPfeYYQ5v49",
        "outputId": "76f498ae-64ac-4ad9-d593-63ce3d46f35d"
      },
      "execution_count": 7,
      "outputs": [
        {
          "output_type": "execute_result",
          "data": {
            "text/plain": [
              "   Hours  Scores\n",
              "0    2.5      21\n",
              "1    5.1      47\n",
              "2    3.2      27\n",
              "3    8.5      75\n",
              "4    3.5      30\n",
              "5    1.5      20\n",
              "6    9.2      88\n",
              "7    5.5      60\n",
              "8    8.3      81\n",
              "9    2.7      25"
            ],
            "text/html": [
              "\n",
              "  <div id=\"df-e3d0db73-78dc-4f50-b0a9-cd3a154cfa71\" class=\"colab-df-container\">\n",
              "    <div>\n",
              "<style scoped>\n",
              "    .dataframe tbody tr th:only-of-type {\n",
              "        vertical-align: middle;\n",
              "    }\n",
              "\n",
              "    .dataframe tbody tr th {\n",
              "        vertical-align: top;\n",
              "    }\n",
              "\n",
              "    .dataframe thead th {\n",
              "        text-align: right;\n",
              "    }\n",
              "</style>\n",
              "<table border=\"1\" class=\"dataframe\">\n",
              "  <thead>\n",
              "    <tr style=\"text-align: right;\">\n",
              "      <th></th>\n",
              "      <th>Hours</th>\n",
              "      <th>Scores</th>\n",
              "    </tr>\n",
              "  </thead>\n",
              "  <tbody>\n",
              "    <tr>\n",
              "      <th>0</th>\n",
              "      <td>2.5</td>\n",
              "      <td>21</td>\n",
              "    </tr>\n",
              "    <tr>\n",
              "      <th>1</th>\n",
              "      <td>5.1</td>\n",
              "      <td>47</td>\n",
              "    </tr>\n",
              "    <tr>\n",
              "      <th>2</th>\n",
              "      <td>3.2</td>\n",
              "      <td>27</td>\n",
              "    </tr>\n",
              "    <tr>\n",
              "      <th>3</th>\n",
              "      <td>8.5</td>\n",
              "      <td>75</td>\n",
              "    </tr>\n",
              "    <tr>\n",
              "      <th>4</th>\n",
              "      <td>3.5</td>\n",
              "      <td>30</td>\n",
              "    </tr>\n",
              "    <tr>\n",
              "      <th>5</th>\n",
              "      <td>1.5</td>\n",
              "      <td>20</td>\n",
              "    </tr>\n",
              "    <tr>\n",
              "      <th>6</th>\n",
              "      <td>9.2</td>\n",
              "      <td>88</td>\n",
              "    </tr>\n",
              "    <tr>\n",
              "      <th>7</th>\n",
              "      <td>5.5</td>\n",
              "      <td>60</td>\n",
              "    </tr>\n",
              "    <tr>\n",
              "      <th>8</th>\n",
              "      <td>8.3</td>\n",
              "      <td>81</td>\n",
              "    </tr>\n",
              "    <tr>\n",
              "      <th>9</th>\n",
              "      <td>2.7</td>\n",
              "      <td>25</td>\n",
              "    </tr>\n",
              "  </tbody>\n",
              "</table>\n",
              "</div>\n",
              "    <div class=\"colab-df-buttons\">\n",
              "\n",
              "  <div class=\"colab-df-container\">\n",
              "    <button class=\"colab-df-convert\" onclick=\"convertToInteractive('df-e3d0db73-78dc-4f50-b0a9-cd3a154cfa71')\"\n",
              "            title=\"Convert this dataframe to an interactive table.\"\n",
              "            style=\"display:none;\">\n",
              "\n",
              "  <svg xmlns=\"http://www.w3.org/2000/svg\" height=\"24px\" viewBox=\"0 -960 960 960\">\n",
              "    <path d=\"M120-120v-720h720v720H120Zm60-500h600v-160H180v160Zm220 220h160v-160H400v160Zm0 220h160v-160H400v160ZM180-400h160v-160H180v160Zm440 0h160v-160H620v160ZM180-180h160v-160H180v160Zm440 0h160v-160H620v160Z\"/>\n",
              "  </svg>\n",
              "    </button>\n",
              "\n",
              "  <style>\n",
              "    .colab-df-container {\n",
              "      display:flex;\n",
              "      gap: 12px;\n",
              "    }\n",
              "\n",
              "    .colab-df-convert {\n",
              "      background-color: #E8F0FE;\n",
              "      border: none;\n",
              "      border-radius: 50%;\n",
              "      cursor: pointer;\n",
              "      display: none;\n",
              "      fill: #1967D2;\n",
              "      height: 32px;\n",
              "      padding: 0 0 0 0;\n",
              "      width: 32px;\n",
              "    }\n",
              "\n",
              "    .colab-df-convert:hover {\n",
              "      background-color: #E2EBFA;\n",
              "      box-shadow: 0px 1px 2px rgba(60, 64, 67, 0.3), 0px 1px 3px 1px rgba(60, 64, 67, 0.15);\n",
              "      fill: #174EA6;\n",
              "    }\n",
              "\n",
              "    .colab-df-buttons div {\n",
              "      margin-bottom: 4px;\n",
              "    }\n",
              "\n",
              "    [theme=dark] .colab-df-convert {\n",
              "      background-color: #3B4455;\n",
              "      fill: #D2E3FC;\n",
              "    }\n",
              "\n",
              "    [theme=dark] .colab-df-convert:hover {\n",
              "      background-color: #434B5C;\n",
              "      box-shadow: 0px 1px 3px 1px rgba(0, 0, 0, 0.15);\n",
              "      filter: drop-shadow(0px 1px 2px rgba(0, 0, 0, 0.3));\n",
              "      fill: #FFFFFF;\n",
              "    }\n",
              "  </style>\n",
              "\n",
              "    <script>\n",
              "      const buttonEl =\n",
              "        document.querySelector('#df-e3d0db73-78dc-4f50-b0a9-cd3a154cfa71 button.colab-df-convert');\n",
              "      buttonEl.style.display =\n",
              "        google.colab.kernel.accessAllowed ? 'block' : 'none';\n",
              "\n",
              "      async function convertToInteractive(key) {\n",
              "        const element = document.querySelector('#df-e3d0db73-78dc-4f50-b0a9-cd3a154cfa71');\n",
              "        const dataTable =\n",
              "          await google.colab.kernel.invokeFunction('convertToInteractive',\n",
              "                                                    [key], {});\n",
              "        if (!dataTable) return;\n",
              "\n",
              "        const docLinkHtml = 'Like what you see? Visit the ' +\n",
              "          '<a target=\"_blank\" href=https://colab.research.google.com/notebooks/data_table.ipynb>data table notebook</a>'\n",
              "          + ' to learn more about interactive tables.';\n",
              "        element.innerHTML = '';\n",
              "        dataTable['output_type'] = 'display_data';\n",
              "        await google.colab.output.renderOutput(dataTable, element);\n",
              "        const docLink = document.createElement('div');\n",
              "        docLink.innerHTML = docLinkHtml;\n",
              "        element.appendChild(docLink);\n",
              "      }\n",
              "    </script>\n",
              "  </div>\n",
              "\n",
              "\n",
              "<div id=\"df-5ad409b5-8313-457f-b5d8-9e62cd9ee966\">\n",
              "  <button class=\"colab-df-quickchart\" onclick=\"quickchart('df-5ad409b5-8313-457f-b5d8-9e62cd9ee966')\"\n",
              "            title=\"Suggest charts.\"\n",
              "            style=\"display:none;\">\n",
              "\n",
              "<svg xmlns=\"http://www.w3.org/2000/svg\" height=\"24px\"viewBox=\"0 0 24 24\"\n",
              "     width=\"24px\">\n",
              "    <g>\n",
              "        <path d=\"M19 3H5c-1.1 0-2 .9-2 2v14c0 1.1.9 2 2 2h14c1.1 0 2-.9 2-2V5c0-1.1-.9-2-2-2zM9 17H7v-7h2v7zm4 0h-2V7h2v10zm4 0h-2v-4h2v4z\"/>\n",
              "    </g>\n",
              "</svg>\n",
              "  </button>\n",
              "\n",
              "<style>\n",
              "  .colab-df-quickchart {\n",
              "      --bg-color: #E8F0FE;\n",
              "      --fill-color: #1967D2;\n",
              "      --hover-bg-color: #E2EBFA;\n",
              "      --hover-fill-color: #174EA6;\n",
              "      --disabled-fill-color: #AAA;\n",
              "      --disabled-bg-color: #DDD;\n",
              "  }\n",
              "\n",
              "  [theme=dark] .colab-df-quickchart {\n",
              "      --bg-color: #3B4455;\n",
              "      --fill-color: #D2E3FC;\n",
              "      --hover-bg-color: #434B5C;\n",
              "      --hover-fill-color: #FFFFFF;\n",
              "      --disabled-bg-color: #3B4455;\n",
              "      --disabled-fill-color: #666;\n",
              "  }\n",
              "\n",
              "  .colab-df-quickchart {\n",
              "    background-color: var(--bg-color);\n",
              "    border: none;\n",
              "    border-radius: 50%;\n",
              "    cursor: pointer;\n",
              "    display: none;\n",
              "    fill: var(--fill-color);\n",
              "    height: 32px;\n",
              "    padding: 0;\n",
              "    width: 32px;\n",
              "  }\n",
              "\n",
              "  .colab-df-quickchart:hover {\n",
              "    background-color: var(--hover-bg-color);\n",
              "    box-shadow: 0 1px 2px rgba(60, 64, 67, 0.3), 0 1px 3px 1px rgba(60, 64, 67, 0.15);\n",
              "    fill: var(--button-hover-fill-color);\n",
              "  }\n",
              "\n",
              "  .colab-df-quickchart-complete:disabled,\n",
              "  .colab-df-quickchart-complete:disabled:hover {\n",
              "    background-color: var(--disabled-bg-color);\n",
              "    fill: var(--disabled-fill-color);\n",
              "    box-shadow: none;\n",
              "  }\n",
              "\n",
              "  .colab-df-spinner {\n",
              "    border: 2px solid var(--fill-color);\n",
              "    border-color: transparent;\n",
              "    border-bottom-color: var(--fill-color);\n",
              "    animation:\n",
              "      spin 1s steps(1) infinite;\n",
              "  }\n",
              "\n",
              "  @keyframes spin {\n",
              "    0% {\n",
              "      border-color: transparent;\n",
              "      border-bottom-color: var(--fill-color);\n",
              "      border-left-color: var(--fill-color);\n",
              "    }\n",
              "    20% {\n",
              "      border-color: transparent;\n",
              "      border-left-color: var(--fill-color);\n",
              "      border-top-color: var(--fill-color);\n",
              "    }\n",
              "    30% {\n",
              "      border-color: transparent;\n",
              "      border-left-color: var(--fill-color);\n",
              "      border-top-color: var(--fill-color);\n",
              "      border-right-color: var(--fill-color);\n",
              "    }\n",
              "    40% {\n",
              "      border-color: transparent;\n",
              "      border-right-color: var(--fill-color);\n",
              "      border-top-color: var(--fill-color);\n",
              "    }\n",
              "    60% {\n",
              "      border-color: transparent;\n",
              "      border-right-color: var(--fill-color);\n",
              "    }\n",
              "    80% {\n",
              "      border-color: transparent;\n",
              "      border-right-color: var(--fill-color);\n",
              "      border-bottom-color: var(--fill-color);\n",
              "    }\n",
              "    90% {\n",
              "      border-color: transparent;\n",
              "      border-bottom-color: var(--fill-color);\n",
              "    }\n",
              "  }\n",
              "</style>\n",
              "\n",
              "  <script>\n",
              "    async function quickchart(key) {\n",
              "      const quickchartButtonEl =\n",
              "        document.querySelector('#' + key + ' button');\n",
              "      quickchartButtonEl.disabled = true;  // To prevent multiple clicks.\n",
              "      quickchartButtonEl.classList.add('colab-df-spinner');\n",
              "      try {\n",
              "        const charts = await google.colab.kernel.invokeFunction(\n",
              "            'suggestCharts', [key], {});\n",
              "      } catch (error) {\n",
              "        console.error('Error during call to suggestCharts:', error);\n",
              "      }\n",
              "      quickchartButtonEl.classList.remove('colab-df-spinner');\n",
              "      quickchartButtonEl.classList.add('colab-df-quickchart-complete');\n",
              "    }\n",
              "    (() => {\n",
              "      let quickchartButtonEl =\n",
              "        document.querySelector('#df-5ad409b5-8313-457f-b5d8-9e62cd9ee966 button');\n",
              "      quickchartButtonEl.style.display =\n",
              "        google.colab.kernel.accessAllowed ? 'block' : 'none';\n",
              "    })();\n",
              "  </script>\n",
              "</div>\n",
              "    </div>\n",
              "  </div>\n"
            ]
          },
          "metadata": {},
          "execution_count": 7
        }
      ]
    },
    {
      "cell_type": "markdown",
      "source": [
        "###Data Visualization"
      ],
      "metadata": {
        "id": "uFLPGHRn9Ufh"
      }
    },
    {
      "source": [
        "import numpy as np\n",
        "\n",
        "def histogram(df, colname, num_bins=20, figscale=1):\n",
        "  from matplotlib import pyplot as plt\n",
        "  df[colname].plot(kind='hist', bins=num_bins, title=colname, figsize=(8*figscale, 4*figscale))\n",
        "  plt.gca().spines[['top', 'right',]].set_visible(False)\n",
        "  plt.tight_layout()\n",
        "  return autoviz.MplChart.from_current_mpl_state()\n",
        "\n",
        "chart = histogram(_df_7, *['Hours'], **{})\n",
        "chart"
      ],
      "cell_type": "code",
      "metadata": {
        "colab": {
          "base_uri": "https://localhost:8080/",
          "height": 412
        },
        "id": "vWP2ZFLn6AF3",
        "outputId": "1e25d4a1-5cb0-47aa-cf2a-abf2ebac6cc4"
      },
      "execution_count": null,
      "outputs": [
        {
          "output_type": "execute_result",
          "data": {
            "text/html": [
              "<img src=\"data:image/png;base64,iVBORw0KGgoAAAANSUhEUgAAAxYAAAGGCAYAAADmRxfNAAAAOXRFWHRTb2Z0d2FyZQBNYXRwbG90\n",
              "bGliIHZlcnNpb24zLjcuMSwgaHR0cHM6Ly9tYXRwbG90bGliLm9yZy/bCgiHAAAACXBIWXMAAA9h\n",
              "AAAPYQGoP6dpAAAuXklEQVR4nO3deXhU9aH/8c+wZBIwCYtkAULCvhMIuCRWgQIi5PIQbSmleoNs\n",
              "z7WGa2JcrrG9IqIOSkHoVYEoEJRLo1AIXhRiiCxFUAkkSGyL4kJAk4AVZkhaBsjM7w9/TjsmQTJn\n",
              "kpOR9+t5zh/nO98z5zMn0PrhzPfE4na73QIAAAAAA1qYHQAAAABA4KNYAAAAADCMYgEAAADAMIoF\n",
              "AAAAAMMoFgAAAAAMo1gAAAAAMIxiAQAAAMAwigUAAAAAwygWAAAAAAyjWAAAAAAwjGIBAGiQnJwc\n",
              "WSwWFRUV1fn6qFGjNGjQoCZOBQAwG8UCAAAAgGEUCwBAwKuurjY7AgBc9SgWAIBGdenSJS1YsEA9\n",
              "e/aU1WpVXFycHn30UTmdTq95FotFjz/+eK3j4+LidPfdd3v2v/sq1u7du3XvvfcqIiJCXbt2lSSd\n",
              "O3dOGRkZiouLk9VqVUREhMaNG6dDhw415kcEAEhqZXYAAEBgstvt+vrrr2uNX7x40Wt/9uzZWrt2\n",
              "rX7+85/rgQce0Pvvvy+bzaa//OUv2rx5s8/nv/fee9WpUyc99thjnjsW99xzjzZu3Ki5c+dqwIAB\n",
              "+tvf/qa9e/fqL3/5ixISEnw+FwDgh1EsAAA+GTt2bL2vDRw4UJJ0+PBhrV27VrNnz9ZLL70kSZ67\n",
              "DL/73e+0c+dOjR492qfzd+jQQYWFhWrZsqVn7M0339ScOXO0ePFiz9jDDz/s0/sDABqGYgEA8MkL\n",
              "L7ygPn361Bp/4IEHVFNTI0l66623JEmZmZm15vzud7/Tm2++6XOxmDNnjlepkKR27drp/fff11df\n",
              "faXOnTv79L4AAN9QLAAAPrn++us1YsSIWuPt27f3fEXq+PHjatGihXr16uU1JyoqSu3atdPx48d9\n",
              "Pn/37t1rjT377LOaPn26YmJiNHz4cE2cOFGpqanq0aOHz+cBAFwZFm8DABqdxWLx+djv7n58X0hI\n",
              "SK2xX/ziF/rss8/0P//zP+rcubMWLVqkgQMHatu2bT6fHwBwZSgWAIBGExsbK5fLpU8++cRrvLKy\n",
              "UmfPnlVsbKxnrH379jp79qzXvAsXLqi8vLxB54yOjta9996rvLw8ff755+rYsaOeeuopnz8DAODK\n",
              "UCwAAI1m4sSJkqSlS5d6jS9ZskSSlJyc7Bnr2bOn9uzZ4zUvOzu73jsW31dTUyO73e41FhERoc6d\n",
              "O9d6tC0AwP9YYwEAaDTx8fGaPn26srOzdfbsWY0cOVIffPCB1q5dq5SUFK+F27Nnz9Y999yjn/3s\n",
              "Zxo3bpwOHz6s/Px8XXvttVd0rnPnzqlr1676+c9/rvj4eF1zzTXasWOHDhw44PWUKABA46BYAAAa\n",
              "1csvv6wePXooJydHmzdvVlRUlLKysjRv3jyveXPmzNHnn3+uVatWafv27br55ptVUFCgMWPGXNF5\n",
              "2rRpo3vvvVdvv/22Nm3aJJfLpV69eunFF1/Ur3/968b4aACAf2Fxu91us0MAAAAACGyssQAAAABg\n",
              "GMUCAAAAgGEUCwAAAACGUSwAAAAAGEaxAAAAAGAYxQIAAACAYVddsXC73XI4HOIpuwAAAID/XHXF\n",
              "4ty5cwoPD9e5c+fMjgIAAAD8aFx1xQIAAACA/1EsAAAAABhGsQAAAABgGMUCAAAAgGEUCwAAAACG\n",
              "USwAAAAAGEaxAAAAAGAYxQIAAACAYRQLAAAAAIZRLAAAAAAY1myKxcKFC2WxWJSRkXHZeRs2bFC/\n",
              "fv0UHByswYMH66233mqagAAAAADq1SyKxYEDB7Ry5UoNGTLksvP27dunadOmadasWSouLlZKSopS\n",
              "UlJUWlraREkBAAAA1MX0YlFVVaU777xTL730ktq3b3/ZucuWLdNtt92mhx56SP3799eCBQuUkJCg\n",
              "559/vonSAgAAAKiL6cUiLS1NycnJGjt27A/O3b9/f61548eP1/79+xsrHgAAAIAr0MrMk+fm5urQ\n",
              "oUM6cODAFc2vqKhQZGSk11hkZKQqKirqPcbpdMrpdHr2HQ6Hb2EBAAAA1Mu0YnHixAmlp6eroKBA\n",
              "wcHBjXYem82m+fPnN9r7I7DFPfKm2RH0xcJksyMAAAAYZtpXoQ4ePKhTp04pISFBrVq1UqtWrbR7\n",
              "9279/ve/V6tWrVRTU1PrmKioKFVWVnqNVVZWKioqqt7zZGVlyW63e7YTJ074/bMAAAAAVzvT7liM\n",
              "GTNGR44c8RqbMWOG+vXrp//6r/9Sy5Ytax2TmJiowsJCr0fSFhQUKDExsd7zWK1WWa1Wv+UGAAAA\n",
              "UJtpxSI0NFSDBg3yGmvbtq06duzoGU9NTVWXLl1ks9kkSenp6Ro5cqQWL16s5ORk5ebmqqioSNnZ\n",
              "2U2eHwAAAMA/mf5UqMspKytTeXm5Zz8pKUnr169Xdna24uPjtXHjRuXl5dUqKAAAAACalsXtdrvN\n",
              "DtGUHA6HwsPDZbfbFRYWZnYcmIzF2wAAAP7RrO9YAAAAAAgMFAsAAAAAhlEsAAAAABhGsQAAAABg\n",
              "GMUCAAAAgGEUCwAAAACGUSwAAAAAGEaxAAAAAGAYxQIAAACAYRQLAAAAAIZRLAAAAAAYRrEAAAAA\n",
              "YBjFAgAAAIBhFAsAAAAAhlEsAAAAABhGsQAAAABgGMUCAAAAgGEUCwAAAACGUSwAAAAAGEaxAAAA\n",
              "AGAYxQIAAACAYRQLAAAAAIZRLAAAAAAYRrEAAAAAYBjFAgAAAIBhFAsAAAAAhlEsAAAAABhGsQAA\n",
              "AABgmKnFYvny5RoyZIjCwsIUFhamxMREbdu2rd75OTk5slgsXltwcHATJgYAAABQl1Zmnrxr165a\n",
              "uHChevfuLbfbrbVr12ry5MkqLi7WwIED6zwmLCxMR48e9exbLJamigsAAACgHqYWi0mTJnntP/XU\n",
              "U1q+fLnee++9eouFxWJRVFRUU8QDAAAAcIWazRqLmpoa5ebmqrq6WomJifXOq6qqUmxsrGJiYjR5\n",
              "8mR99NFHl31fp9Mph8PhtQEAAADwL9OLxZEjR3TNNdfIarXqnnvu0ebNmzVgwIA65/bt21erV6/W\n",
              "li1btG7dOrlcLiUlJenkyZP1vr/NZlN4eLhni4mJaayPAgAAAFy1LG63221mgAsXLqisrEx2u10b\n",
              "N27Uyy+/rN27d9dbLv7VxYsX1b9/f02bNk0LFiyoc47T6ZTT6fTsOxwOxcTEyG63KywszG+fA4Ep\n",
              "7pE3zY6gLxYmmx0BAADAMFPXWEhSUFCQevXqJUkaPny4Dhw4oGXLlmnlypU/eGzr1q01bNgwHTt2\n",
              "rN45VqtVVqvVb3kBAAAA1Gb6V6G+z+Vyed1huJyamhodOXJE0dHRjZwKAAAAwOWYesciKytLEyZM\n",
              "ULdu3XTu3DmtX79eu3btUn5+viQpNTVVXbp0kc1mkyQ98cQTuvHGG9WrVy+dPXtWixYt0vHjxzV7\n",
              "9mwzPwYAAABw1TO1WJw6dUqpqakqLy9XeHi4hgwZovz8fI0bN06SVFZWphYt/nlT5cyZM5ozZ44q\n",
              "KirUvn17DR8+XPv27bui9RgAAAAAGo/pi7ebmsPhUHh4OIu3IYnF2wAAAP7S7NZYAAAAAAg8FAsA\n",
              "AAAAhlEsAAAAABhGsQAAAABgGMUCAAAAgGEUCwAAAACGUSwAAAAAGEaxAAAAAGAYxQIAAACAYRQL\n",
              "AAAAAIZRLAAAAAAYRrEAAAAAYBjFAgAAAIBhFAsAAAAAhlEsAAAAABhGsQAAAABgGMUCAAAAgGEU\n",
              "CwAAAACGUSwAAAAAGEaxAAAAAGAYxQIAAACAYRQLAAAAAIZRLAAAAAAYRrEAAAAAYBjFAgAAAIBh\n",
              "FAsAAAAAhlEsAAAAABhmarFYvny5hgwZorCwMIWFhSkxMVHbtm277DEbNmxQv379FBwcrMGDB+ut\n",
              "t95qorQAAAAA6mNqsejatasWLlyogwcPqqioSD/96U81efJkffTRR3XO37dvn6ZNm6ZZs2apuLhY\n",
              "KSkpSklJUWlpaRMnBwAAAPCvLG632212iH/VoUMHLVq0SLNmzar12tSpU1VdXa2tW7d6xm688UYN\n",
              "HTpUK1asuKL3dzgcCg8Pl91uV1hYmN9yIzDFPfKm2RH0xcJksyMAAAAY1mzWWNTU1Cg3N1fV1dVK\n",
              "TEysc87+/fs1duxYr7Hx48dr//79TRERAAAAQD1amR3gyJEjSkxM1Pnz53XNNddo8+bNGjBgQJ1z\n",
              "KyoqFBkZ6TUWGRmpioqKet/f6XTK6XR69h0Oh3+CAwAAAPAwvVj07dtXJSUlstvt2rhxo6ZPn67d\n",
              "u3fXWy4aymazaf78+X55L+DHiK+DAQAAfzD9q1BBQUHq1auXhg8fLpvNpvj4eC1btqzOuVFRUaqs\n",
              "rPQaq6ysVFRUVL3vn5WVJbvd7tlOnDjh1/wAAAAAmkGx+D6Xy+X11aV/lZiYqMLCQq+xgoKCetdk\n",
              "SJLVavU8zva7DQAAAIB/mfpVqKysLE2YMEHdunXTuXPntH79eu3atUv5+fmSpNTUVHXp0kU2m02S\n",
              "lJ6erpEjR2rx4sVKTk5Wbm6uioqKlJ2dbebHAAAAAK56phaLU6dOKTU1VeXl5QoPD9eQIUOUn5+v\n",
              "cePGSZLKysrUosU/b6okJSVp/fr1+u1vf6tHH31UvXv3Vl5engYNGmTWRwAAAAAgk4vFqlWrLvv6\n",
              "rl27ao1NmTJFU6ZMaaREAAAAAHzR7NZYAAAAAAg8FAsAAAAAhlEsAAAAABhGsQAAAABgGMUCAAAA\n",
              "gGEUCwAAAACGUSwAAAAAGEaxAAAAAGAYxQIAAACAYRQLAAAAAIZRLAAAAAAYRrEAAAAAYBjFAgAA\n",
              "AIBhFAsAAAAAhlEsAAAAABhGsQAAAABgGMUCAAAAgGEUCwAAAACGUSwAAAAAGEaxAAAAAGAYxQIA\n",
              "AACAYRQLAAAAAIZRLAAAAAAYRrEAAAAAYBjFAgAAAIBhFAsAAAAAhlEsAAAAABhGsQAAAABgmKnF\n",
              "wmaz6brrrlNoaKgiIiKUkpKio0ePXvaYnJwcWSwWry04OLiJEgMAAACoi6nFYvfu3UpLS9N7772n\n",
              "goICXbx4Ubfeequqq6sve1xYWJjKy8s92/Hjx5soMQAAAIC6tPLloM8++0w9evQwfPLt27d77efk\n",
              "5CgiIkIHDx7ULbfcUu9xFotFUVFRhs8PAAAAwD98umPRq1cvjR49WuvWrdP58+f9FsZut0uSOnTo\n",
              "cNl5VVVVio2NVUxMjCZPnqyPPvqo3rlOp1MOh8NrAwAAAOBfPhWLQ4cOaciQIcrMzFRUVJT+4z/+\n",
              "Qx988IGhIC6XSxkZGbrppps0aNCgeuf17dtXq1ev1pYtW7Ru3Tq5XC4lJSXp5MmTdc632WwKDw/3\n",
              "bDExMYZyAgAAAKjN4na73b4efOnSJb3xxhvKycnR9u3b1adPH82cOVP//u//rk6dOjXovX79619r\n",
              "27Zt2rt3r7p27XrFx128eFH9+/fXtGnTtGDBglqvO51OOZ1Oz77D4VBMTIzsdrvCwsIalBE/PnGP\n",
              "vGl2BH2xMNnU83MNAACAPxhavN2qVSvdcccd2rBhg5555hkdO3ZMDz74oGJiYpSamqry8vIrep+5\n",
              "c+dq69at2rlzZ4NKhSS1bt1aw4YN07Fjx+p83Wq1KiwszGsDAAAA4F+GikVRUZHuvfdeRUdHa8mS\n",
              "JXrwwQf16aefqqCgQF999ZUmT5582ePdbrfmzp2rzZs365133lH37t0bnKGmpkZHjhxRdHS0rx8D\n",
              "AAAAgEE+PRVqyZIlWrNmjY4ePaqJEyfqlVde0cSJE9Wixbc9pXv37srJyVFcXNxl3yctLU3r16/X\n",
              "li1bFBoaqoqKCklSeHi4QkJCJEmpqanq0qWLbDabJOmJJ57QjTfeqF69euns2bNatGiRjh8/rtmz\n",
              "Z/vyUQAAAAD4gU/FYvny5Zo5c6buvvvueu8UREREaNWqVT/4PpI0atQor/E1a9bo7rvvliSVlZV5\n",
              "CosknTlzRnPmzFFFRYXat2+v4cOHa9++fRowYIAvHwUAAACAHxhavB2IHA6HwsPDWbwNSSxclrgG\n",
              "AADAP3xaY7FmzRpt2LCh1viGDRu0du1aw6EAAAAABBafioXNZtO1115bazwiIkJPP/204VAAAAAA\n",
              "AotPxaKsrKzOJzjFxsaqrKzMcCgAAAAAgcWnYhEREaEPP/yw1vjhw4fVsWNHw6EAAAAABBafisW0\n",
              "adN03333aefOnaqpqVFNTY3eeecdpaen65e//KW/MwIAAABo5nx63OyCBQv0xRdfaMyYMWrV6tu3\n",
              "cLlcSk1NZY0FAAAAcBXyqVgEBQXptdde04IFC3T48GGFhIRo8ODBio2N9Xc+AAAAAAHAp2LxnT59\n",
              "+qhPnz7+ygIAAAAgQPlULGpqapSTk6PCwkKdOnVKLpfL6/V33nnHL+EAAAAABAafikV6erpycnKU\n",
              "nJysQYMGyWKx+DsXAAAAgADiU7HIzc3V66+/rokTJ/o7DwAAAIAA5NPjZoOCgtSrVy9/ZwEAAAAQ\n",
              "oHwqFg888ICWLVsmt9vt7zwAAAAAApBPX4Xau3evdu7cqW3btmngwIFq3bq11+ubNm3ySzgAAAAA\n",
              "gcGnYtGuXTvdfvvt/s4CAAAAIED5VCzWrFnj7xwAAAAAAphPaywk6dKlS9qxY4dWrlypc+fOSZK+\n",
              "+uorVVVV+S0cAAAAgMDg0x2L48eP67bbblNZWZmcTqfGjRun0NBQPfPMM3I6nVqxYoW/cwIAAABo\n",
              "xny6Y5Genq4RI0bozJkzCgkJ8YzffvvtKiws9Fs4AAAAAIHBpzsWf/rTn7Rv3z4FBQV5jcfFxenL\n",
              "L7/0SzAAAAAAgcOnOxYul0s1NTW1xk+ePKnQ0FDDoQAAAAAEFp+Kxa233qqlS5d69i0Wi6qqqjRv\n",
              "3jxNnDjRX9kAAAAABAifvgq1ePFijR8/XgMGDND58+f1q1/9Sp988omuvfZa/eEPf/B3RgAAAADN\n",
              "nE/FomvXrjp8+LByc3P14YcfqqqqSrNmzdKdd97ptZgbAAAAwNXBp2IhSa1atdJdd93lzywAAAAA\n",
              "ApRPxeKVV1657Oupqak+hQEAAAAQmHwqFunp6V77Fy9e1N///ncFBQWpTZs2FAsAAADgKuPTU6HO\n",
              "nDnjtVVVVeno0aP6yU9+wuJtAAAA4CrkU7GoS+/evbVw4cJadzMux2az6brrrlNoaKgiIiKUkpKi\n",
              "o0eP/uBxGzZsUL9+/RQcHKzBgwfrrbfeMhIdAAAAgEF+KxbStwu6v/rqqyuev3v3bqWlpem9995T\n",
              "QUGBLl68qFtvvVXV1dX1HrNv3z5NmzZNs2bNUnFxsVJSUpSSkqLS0lJ/fAQAAAAAPrC43W53Qw96\n",
              "4403vPbdbrfKy8v1/PPPKyYmRtu2bfMpzOnTpxUREaHdu3frlltuqXPO1KlTVV1dra1bt3rGbrzx\n",
              "Rg0dOlQrVqz4wXM4HA6Fh4fLbrcrLCzMp5z48Yh75E2zI+iLhcmmnp9rAAAA/MGnxdspKSle+xaL\n",
              "RZ06ddJPf/pTLV682OcwdrtdktShQ4d65+zfv1+ZmZleY+PHj1deXl6d851Op5xOp2ff4XD4nA8A\n",
              "AABA3XwqFi6Xy9855HK5lJGRoZtuukmDBg2qd15FRYUiIyO9xiIjI1VRUVHnfJvNpvnz5/s1qz/w\n",
              "r8QAmhv+dwloXsz+O8nfx2/xc7hyfl1jYURaWppKS0uVm5vr1/fNysqS3W73bCdOnPDr+wMAAADw\n",
              "8Y7F97+KdDlLliz5wTlz587V1q1btWfPHnXt2vWyc6OiolRZWek1VllZqaioqDrnW61WWa3WK84L\n",
              "AAAAoOF8KhbFxcUqLi7WxYsX1bdvX0nSxx9/rJYtWyohIcEzz2KxXPZ93G63/vM//1ObN2/Wrl27\n",
              "1L179x88d2JiogoLC5WRkeEZKygoUGJioi8fBQAAAIAf+FQsJk2apNDQUK1du1bt27eX9O0vzZsx\n",
              "Y4ZuvvlmPfDAA1f0PmlpaVq/fr22bNmi0NBQzzqJ8PBwhYSESJJSU1PVpUsX2Ww2Sd/+1u+RI0dq\n",
              "8eLFSk5OVm5uroqKipSdne3LRwEAAADgBz6tsVi8eLFsNpunVEhS+/bt9eSTTzboqVDLly+X3W7X\n",
              "qFGjFB0d7dlee+01z5yysjKVl5d79pOSkrR+/XplZ2crPj5eGzduVF5e3mUXfAMAAABoXD7dsXA4\n",
              "HDp9+nSt8dOnT+vcuXNX/D5X8is0du3aVWtsypQpmjJlyhWfBwAAAEDj8umOxe23364ZM2Zo06ZN\n",
              "OnnypE6ePKk//vGPmjVrlu644w5/ZwQAAADQzPl0x2LFihV68MEH9atf/UoXL1789o1atdKsWbO0\n",
              "aNEivwYEAAAA0Pz5VCzatGmjF198UYsWLdKnn34qSerZs6fatm3r13AAAAAAAoOhX5BXXl6u8vJy\n",
              "9e7dW23btr2iNRMAAAAAfnx8KhZ/+9vfNGbMGPXp00cTJ070PLVp1qxZV/yoWQAAAAA/Hj4Vi/vv\n",
              "v1+tW7dWWVmZ2rRp4xmfOnWqtm/f7rdwAAAAAAKDT2ss3n77beXn56tr165e471799bx48f9EgwA\n",
              "AABA4PDpjkV1dbXXnYrvfPPNN7JarYZDAQAAAAgsPhWLm2++Wa+88opn32KxyOVy6dlnn9Xo0aP9\n",
              "Fg4AAABAYPDpq1DPPvusxowZo6KiIl24cEEPP/ywPvroI33zzTd69913/Z0RAAAAQDPn0x2LQYMG\n",
              "6eOPP9ZPfvITTZ48WdXV1brjjjtUXFysnj17+jsjAAAAgGauwXcsLl68qNtuu00rVqzQb37zm8bI\n",
              "BAAAACDANPiORevWrfXhhx82RhYAAAAAAcqnr0LdddddWrVqlb+zAAAAAAhQPi3evnTpklavXq0d\n",
              "O3Zo+PDhatu2rdfrS5Ys8Us4AAAAAIGhQcXis88+U1xcnEpLS5WQkCBJ+vjjj73mWCwW/6UDAAAA\n",
              "EBAaVCx69+6t8vJy7dy5U5I0depU/f73v1dkZGSjhAMAAAAQGBq0xsLtdnvtb9u2TdXV1X4NBAAA\n",
              "ACDw+LR4+zvfLxoAAAAArk4NKhYWi6XWGgrWVAAAAABo0BoLt9utu+++W1arVZJ0/vx53XPPPbWe\n",
              "CrVp0yb/JQQAAADQ7DWoWEyfPt1r/6677vJrGAAAAACBqUHFYs2aNY2VAwAAAEAAM7R4GwAAAAAk\n",
              "igUAAAAAP6BYAAAAADCMYgEAAADAMFOLxZ49ezRp0iR17txZFotFeXl5l52/a9cuz+/S+NetoqKi\n",
              "aQIDAAAAqJOpxaK6ulrx8fF64YUXGnTc0aNHVV5e7tkiIiIaKSEAAACAK9Ggx83624QJEzRhwoQG\n",
              "HxcREaF27dr5PxAAAAAAnwTkGouhQ4cqOjpa48aN07vvvmt2HAAAAOCqZ+odi4aKjo7WihUrNGLE\n",
              "CDmdTr388ssaNWqU3n//fSUkJNR5jNPplNPp9Ow7HI6migsAAABcNQKqWPTt21d9+/b17CclJenT\n",
              "Tz/Vc889p1dffbXOY2w2m+bPn99UEQEAAICrUkB+FepfXX/99Tp27Fi9r2dlZclut3u2EydONGE6\n",
              "AAAA4OoQUHcs6lJSUqLo6Oh6X7darbJarU2YCAAAALj6mFosqqqqvO42fP755yopKVGHDh3UrVs3\n",
              "ZWVl6csvv9Qrr7wiSVq6dKm6d++ugQMH6vz583r55Zf1zjvv6O233zbrIwAAAACQycWiqKhIo0eP\n",
              "9uxnZmZKkqZPn66cnByVl5errKzM8/qFCxf0wAMP6Msvv1SbNm00ZMgQ7dixw+s9AAAAADQ9U4vF\n",
              "qFGj5Ha76309JyfHa//hhx/Www8/3MipAAAAADRUwC/eBgAAAGA+igUAAAAAwygWAAAAAAyjWAAA\n",
              "AAAwjGIBAAAAwDCKBQAAAADDKBYAAAAADKNYAAAAADCMYgEAAADAMIoFAAAAAMMoFgAAAAAMo1gA\n",
              "AAAAMIxiAQAAAMAwigUAAAAAwygWAAAAAAyjWAAAAAAwjGIBAAAAwDCKBQAAAADDKBYAAAAADKNY\n",
              "AAAAADCMYgEAAADAMIoFAAAAAMMoFgAAAAAMo1gAAAAAMIxiAQAAAMAwigUAAAAAwygWAAAAAAyj\n",
              "WAAAAAAwzNRisWfPHk2aNEmdO3eWxWJRXl7eDx6za9cuJSQkyGq1qlevXsrJyWn0nAAAAAAuz9Ri\n",
              "UV1drfj4eL3wwgtXNP/zzz9XcnKyRo8erZKSEmVkZGj27NnKz89v5KQAAAAALqeVmSefMGGCJkyY\n",
              "cMXzV6xYoe7du2vx4sWSpP79+2vv3r167rnnNH78+MaKCQAAAOAHBNQai/3792vs2LFeY+PHj9f+\n",
              "/fvrPcbpdMrhcHhtAAAAAPzL1DsWDVVRUaHIyEivscjISDkcDv3jH/9QSEhIrWNsNpvmz5/fVBED\n",
              "Stwjb5p6/i8WJpt6fjQfZv9ZlMz/89gcrkFzwHVoHvj7AImfAxouoO5Y+CIrK0t2u92znThxwuxI\n",
              "AAAAwI9OQN2xiIqKUmVlpddYZWWlwsLC6rxbIUlWq1VWq7Up4gEAAABXrYC6Y5GYmKjCwkKvsYKC\n",
              "AiUmJpqUCAAAAIBkcrGoqqpSSUmJSkpKJH37ONmSkhKVlZVJ+vZrTKmpqZ7599xzjz777DM9/PDD\n",
              "+utf/6oXX3xRr7/+uu6//34z4gMAAAD4/0wtFkVFRRo2bJiGDRsmScrMzNSwYcP02GOPSZLKy8s9\n",
              "JUOSunfvrjfffFMFBQWKj4/X4sWL9fLLL/OoWQAAAMBkpq6xGDVqlNxud72v1/VbtUeNGqXi4uJG\n",
              "TAUAAACgoQJqjQUAAACA5oliAQAAAMAwigUAAAAAwygWAAAAAAyjWAAAAAAwjGIBAAAAwDCKBQAA\n",
              "AADDKBYAAAAADKNYAAAAADCMYgEAAADAMIoFAAAAAMMoFgAAAAAMo1gAAAAAMIxiAQAAAMAwigUA\n",
              "AAAAwygWAAAAAAyjWAAAAAAwjGIBAAAAwDCKBQAAAADDKBYAAAAADKNYAAAAADCMYgEAAADAMIoF\n",
              "AAAAAMMoFgAAAAAMo1gAAAAAMIxiAQAAAMAwigUAAAAAw5pFsXjhhRcUFxen4OBg3XDDDfrggw/q\n",
              "nZuTkyOLxeK1BQcHN2FaAAAAAN9nerF47bXXlJmZqXnz5unQoUOKj4/X+PHjderUqXqPCQsLU3l5\n",
              "uWc7fvx4EyYGAAAA8H2mF4slS5Zozpw5mjFjhgYMGKAVK1aoTZs2Wr16db3HWCwWRUVFebbIyMgm\n",
              "TAwAAADg+0wtFhcuXNDBgwc1duxYz1iLFi00duxY7d+/v97jqqqqFBsbq5iYGE2ePFkfffRRU8QF\n",
              "AAAAUA9Ti8XXX3+tmpqaWnccIiMjVVFRUecxffv21erVq7VlyxatW7dOLpdLSUlJOnnyZJ3znU6n\n",
              "HA6H1wYAAADAv0z/KlRDJSYmKjU1VUOHDtXIkSO1adMmderUSStXrqxzvs1mU3h4uGeLiYlp4sQA\n",
              "AADAj5+pxeLaa69Vy5YtVVlZ6TVeWVmpqKioK3qP1q1ba9iwYTp27Fidr2dlZclut3u2EydOGM4N\n",
              "AAAAwJupxSIoKEjDhw9XYWGhZ8zlcqmwsFCJiYlX9B41NTU6cuSIoqOj63zdarUqLCzMawMAAADg\n",
              "X63MDpCZmanp06drxIgRuv7667V06VJVV1drxowZkqTU1FR16dJFNptNkvTEE0/oxhtvVK9evXT2\n",
              "7FktWrRIx48f1+zZs838GAAAAMBVzfRiMXXqVJ0+fVqPPfaYKioqNHToUG3fvt2zoLusrEwtWvzz\n",
              "xsqZM2c0Z84cVVRUqH379ho+fLj27dunAQMGmPURAAAAgKue6cVCkubOnau5c+fW+dquXbu89p97\n",
              "7jk999xzTZAKAAAAwJUKuKdCAQAAAGh+KBYAAAAADKNYAAAAADCMYgEAAADAMIoFAAAAAMMoFgAA\n",
              "AAAMo1gAAAAAMIxiAQAAAMAwigUAAAAAwygWAAAAAAyjWAAAAAAwjGIBAAAAwDCKBQAAAADDKBYA\n",
              "AAAADKNYAAAAADCMYgEAAADAMIoFAAAAAMMoFgAAAAAMo1gAAAAAMIxiAQAAAMAwigUAAAAAwygW\n",
              "AAAAAAyjWAAAAAAwjGIBAAAAwDCKBQAAAADDKBYAAAAADKNYAAAAADCMYgEAAADAsGZRLF544QXF\n",
              "xcUpODhYN9xwgz744IPLzt+wYYP69eun4OBgDR48WG+99VYTJQUAAABQF9OLxWuvvabMzEzNmzdP\n",
              "hw4dUnx8vMaPH69Tp07VOX/fvn2aNm2aZs2apeLiYqWkpCglJUWlpaVNnBwAAADAd0wvFkuWLNGc\n",
              "OXM0Y8YMDRgwQCtWrFCbNm20evXqOucvW7ZMt912mx566CH1799fCxYsUEJCgp5//vkmTg4AAADg\n",
              "O63MPPmFCxd08OBBZWVlecZatGihsWPHav/+/XUes3//fmVmZnqNjR8/Xnl5eXXOdzqdcjqdnn27\n",
              "3S5JcjgcBtMb43L+3dTzNwdm/wyk5vFzMPs6NIdr0BzwcwD+ib8PQPNh9t/H74SGhspisVx2jqnF\n",
              "4uuvv1ZNTY0iIyO9xiMjI/XXv/61zmMqKirqnF9RUVHnfJvNpvnz59caj4mJ8TE1/CV8qdkJmgeu\n",
              "Q/PAzwH4J/4+AM1Hc/n7aLfbFRYWdtk5phaLppCVleV1h8Plcumbb75Rx44df7B1+crhcCgmJkYn\n",
              "Tpz4wR8A6sY1NIbrZxzX0DiuoTFcP+O4hsZxDY35MV2/0NDQH5xjarG49tpr1bJlS1VWVnqNV1ZW\n",
              "Kioqqs5joqKiGjTfarXKarV6jbVr18730A0QFhYW8H+IzMY1NIbrZxzX0DiuoTFcP+O4hsZxDY25\n",
              "Wq6fqYu3g4KCNHz4cBUWFnrGXC6XCgsLlZiYWOcxiYmJXvMlqaCgoN75AAAAABqf6V+FyszM1PTp\n",
              "0zVixAhdf/31Wrp0qaqrqzVjxgxJUmpqqrp06SKbzSZJSk9P18iRI7V48WIlJycrNzdXRUVFys7O\n",
              "NvNjAAAAAFc104vF1KlTdfr0aT322GOqqKjQ0KFDtX37ds8C7bKyMrVo8c8bK0lJSVq/fr1++9vf\n",
              "6tFHH1Xv3r2Vl5enQYMGmfURarFarZo3b16tr2DhynENjeH6Gcc1NI5raAzXzziuoXFcQ2Oututn\n",
              "cbvdbrNDAAAAAAhspv+CPAAAAACBj2IBAAAAwDCKBQAAAADDKBYAAAAADKNY+NGePXs0adIkde7c\n",
              "WRaLRXl5eWZHCig2m03XXXedQkNDFRERoZSUFB09etTsWAFl+fLlGjJkiOcX8SQmJmrbtm1mxwpY\n",
              "CxculMViUUZGhtlRAsbjjz8ui8XitfXr18/sWAHnyy+/1F133aWOHTsqJCREgwcPVlFRkdmxAkZc\n",
              "XFytP4cWi0VpaWlmRwsINTU1+u///m91795dISEh6tmzpxYsWCCe99Mw586dU0ZGhmJjYxUSEqKk\n",
              "pCQdOHDA7FiNyvTHzf6YVFdXKz4+XjNnztQdd9xhdpyAs3v3bqWlpem6667TpUuX9Oijj+rWW2/V\n",
              "n//8Z7Vt29bseAGha9euWrhwoXr37i232621a9dq8uTJKi4u1sCBA82OF1AOHDiglStXasiQIWZH\n",
              "CTgDBw7Ujh07PPutWvF/NQ1x5swZ3XTTTRo9erS2bdumTp066ZNPPlH79u3NjhYwDhw4oJqaGs9+\n",
              "aWmpxo0bpylTppiYKnA888wzWr58udauXauBAweqqKhIM2bMUHh4uO677z6z4wWM2bNnq7S0VK++\n",
              "+qo6d+6sdevWaezYsfrzn/+sLl26mB2vUfC42UZisVi0efNmpaSkmB0lYJ0+fVoRERHavXu3brnl\n",
              "FrPjBKwOHTpo0aJFmjVrltlRAkZVVZUSEhL04osv6sknn9TQoUO1dOlSs2MFhMcff1x5eXkqKSkx\n",
              "O0rAeuSRR/Tuu+/qT3/6k9lRfjQyMjK0detWffLJJ7JYLGbHafb+7d/+TZGRkVq1apVn7Gc/+5lC\n",
              "QkK0bt06E5MFjn/84x8KDQ3Vli1blJyc7BkfPny4JkyYoCeffNLEdI2Hr0Kh2bLb7ZK+/Q9jNFxN\n",
              "TY1yc3NVXV2txMREs+MElLS0NCUnJ2vs2LFmRwlIn3zyiTp37qwePXrozjvvVFlZmdmRAsobb7yh\n",
              "ESNGaMqUKYqIiNCwYcP00ksvmR0rYF24cEHr1q3TzJkzKRVXKCkpSYWFhfr4448lSYcPH9bevXs1\n",
              "YcIEk5MFjkuXLqmmpkbBwcFe4yEhIdq7d69JqRof96fRLLlcLmVkZOimm25qVr9VPRAcOXJEiYmJ\n",
              "On/+vK655hpt3rxZAwYMMDtWwMjNzdWhQ4d+9N+DbSw33HCDcnJy1LdvX5WXl2v+/Pm6+eabVVpa\n",
              "qtDQULPjBYTPPvtMy5cvV2Zmph599FEdOHBA9913n4KCgjR9+nSz4wWcvLw8nT17VnfffbfZUQLG\n",
              "I488IofDoX79+qlly5aqqanRU089pTvvvNPsaAEjNDRUiYmJWrBggfr376/IyEj94Q9/0P79+9Wr\n",
              "Vy+z4zUaigWapbS0NJWWlv6oW31j6du3r0pKSmS327Vx40ZNnz5du3fvplxcgRMnTig9PV0FBQW1\n",
              "/pUJV+Zf/0VzyJAhuuGGGxQbG6vXX3+dr+NdIZfLpREjRujpp5+WJA0bNkylpaVasWIFxcIHq1at\n",
              "0oQJE9S5c2ezowSM119/Xf/7v/+r9evXa+DAgSopKVFGRoY6d+7Mn8EGePXVVzVz5kx16dJFLVu2\n",
              "VEJCgqZNm6aDBw+aHa3RUCzQ7MydO1dbt27Vnj171LVrV7PjBJygoCDPv4YMHz5cBw4c0LJly7Ry\n",
              "5UqTkzV/Bw8e1KlTp5SQkOAZq6mp0Z49e/T888/L6XSqZcuWJiYMPO3atVOfPn107Ngxs6MEjOjo\n",
              "6Fr/ENC/f3/98Y9/NClR4Dp+/Lh27NihTZs2mR0loDz00EN65JFH9Mtf/lKSNHjwYB0/flw2m41i\n",
              "0QA9e/bU7t27VV1dLYfDoejoaE2dOlU9evQwO1qjYY0Fmg232625c+dq8+bNeuedd9S9e3ezI/0o\n",
              "uFwuOZ1Os2MEhDFjxujIkSMqKSnxbCNGjNCdd96pkpISSoUPqqqq9Omnnyo6OtrsKAHjpptuqvWo\n",
              "7Y8//lixsbEmJQpca9asUUREhNfiWfywv//972rRwvs/EVu2bCmXy2VSosDWtm1bRUdH68yZM8rP\n",
              "z9fkyZPNjtRouGPhR1VVVV7/Kvf555+rpKREHTp0ULdu3UxMFhjS0tK0fv16bdmyRaGhoaqoqJAk\n",
              "hYeHKyQkxOR0gSErK0sTJkxQt27ddO7cOa1fv167du1Sfn6+2dECQmhoaK01PW3btlXHjh1Z63OF\n",
              "HnzwQU2aNEmxsbH66quvNG/ePLVs2VLTpk0zO1rAuP/++5WUlKSnn35av/jFL/TBBx8oOztb2dnZ\n",
              "ZkcLKC6XS2vWrNH06dN55HEDTZo0SU899ZS6deumgQMHqri4WEuWLNHMmTPNjhZQ8vPz5Xa71bdv\n",
              "Xx07dkwPPfSQ+vXrpxkzZpgdrfG44Tc7d+50S6q1TZ8+3exoAaGuayfJvWbNGrOjBYyZM2e6Y2Nj\n",
              "3UFBQe5OnTq5x4wZ43777bfNjhXQRo4c6U5PTzc7RsCYOnWqOzo62h0UFOTu0qWLe+rUqe5jx46Z\n",
              "HSvg/N///Z970KBBbqvV6u7Xr587Ozvb7EgBJz8/3y3JffToUbOjBByHw+FOT093d+vWzR0cHOzu\n",
              "0aOH+ze/+Y3b6XSaHS2gvPbaa+4ePXq4g4KC3FFRUe60tDT32bNnzY7VqPg9FgAAAAAMY40FAAAA\n",
              "AMMoFgAAAAAMo1gAAAAAMIxiAQAAAMAwigUAAAAAwygWAAAAAAyjWAAAAAAwjGIBAAAAwDCKBQAA\n",
              "AADDKBYAAAAADKNYAAAAADCMYgEAAADAsP8HoN5N8SNS1PIAAAAASUVORK5CYII=\n",
              "\">\n",
              "        <script></script>"
            ],
            "text/plain": [
              "<google.colab._quickchart_lib.MplChart at 0x7a0421871a20>"
            ]
          },
          "metadata": {},
          "execution_count": 10
        }
      ]
    },
    {
      "source": [
        "import numpy as np\n",
        "from google.colab import autoviz\n",
        "\n",
        "def scatter_plots(df, colname_pairs, figscale=1, alpha=.8):\n",
        "  from matplotlib import pyplot as plt\n",
        "  plt.figure(figsize=(len(colname_pairs) * 6 * figscale, 6 * figscale))\n",
        "  for plot_i, (x_colname, y_colname) in enumerate(colname_pairs, start=1):\n",
        "    ax = plt.subplot(1, len(colname_pairs), plot_i)\n",
        "    df.plot(kind='scatter', x=x_colname, y=y_colname, s=(32 * figscale), alpha=alpha, ax=ax)\n",
        "    ax.spines[['top', 'right',]].set_visible(False)\n",
        "  plt.tight_layout()\n",
        "  return autoviz.MplChart.from_current_mpl_state()\n",
        "\n",
        "chart = scatter_plots(_df_9, *[[['Hours', 'Scores']]], **{})\n",
        "chart"
      ],
      "cell_type": "code",
      "metadata": {
        "colab": {
          "base_uri": "https://localhost:8080/",
          "height": 612
        },
        "id": "Svpi5Qe76DLo",
        "outputId": "97e3dd8e-784e-4e02-c1c7-6d98a5ae4e58"
      },
      "execution_count": 8,
      "outputs": [
        {
          "output_type": "execute_result",
          "data": {
            "text/html": [
              "<img src=\"data:image/png;base64,iVBORw0KGgoAAAANSUhEUgAAAk4AAAJOCAYAAABBWYj1AAAAOXRFWHRTb2Z0d2FyZQBNYXRwbG90\n",
              "bGliIHZlcnNpb24zLjcuMSwgaHR0cHM6Ly9tYXRwbG90bGliLm9yZy/bCgiHAAAACXBIWXMAAA9h\n",
              "AAAPYQGoP6dpAABCEUlEQVR4nO3de3QU9eH//1cyszu7zSbhYi5QISAXQ4P6QfTAir2KYj7Wjx7Q\n",
              "egGr1bYfbcSi2G+hPUitF6xt9VfLwVbrR6gRvJxWrbZALW2xaqBI0Qq0SCoEWk0CHyHZxOzszuz+\n",
              "/uCYT7eEOoQNs8k+H+fsOWZms3ktSPLKvC9TkE6n0wIAAMCHKvQ7AAAAQH9BcQIAAPCI4gQAAOAR\n",
              "xQkAAMAjihMAAIBHFCcAAACPKE4AAAAeUZwAAAA8GvDFKZ1Oq729XezzCQAAjtWAL06xWEylpaWK\n",
              "xWJ+RwEAAP3cgC9OAAAA2UJxAgAA8IjiBAAA4BHFCQAAwCOKEwAAgEcUJwAAAI8oTgAAAB5RnAAA\n",
              "ADyiOAEAAHhEcQIAAPCI4gQAAOARxQkAAMAjihMAAIBHFCcAAACPKE4AAAAeUZwAAAA8ojgBAAB4\n",
              "RHECAADwiOIEAAD6TDzpan+HrXjS9TtKVph+BwAAAAPPvpit+g27tWZri7qSrsIBQ7UTKzUnWqUT\n",
              "Ipbf8XqtIJ1Op/0O0Zfa29tVWlqqtrY2lZSU+B0HAIABb1/M1txVW9TYGlPINBQ0C5VwUoo7rsaW\n",
              "F2vplZP6bXliqA4AAGRV/YbdamyNqSxiaXBRUEWWqcFFQZVFLDW2xlTf0OR3xF6jOAEAgKyJJ12t\n",
              "2dqikGnINDJrhmkUyjINrd7W3G/nPFGcAABA1nTYjrqSroJmzxXDMgvVlXDVYTvHOVl2UJwAAEDW\n",
              "RCxT4YChhJPq8bztpBQOGopY/XN9GsUJAABkTShg6PyJFYo7rhw3szw5bkq246q2plKhgOFTwmPT\n",
              "P+seAADIWVdFR2njrgNqbI3JMg1ZZqFs51BpGlderDnRKr8j9hrbEQAAgKzb32GrvqFJq7c1qyvh\n",
              "Khw0VFvDPk45j+IEAIB/4slDE8Ejltlvh+f+GUN1AACgz4QCxoAoTB9gcjgAAIBHFCcAAACPKE4A\n",
              "AAAeUZwAAAA8ojgBAAB4RHECAADwiOIEAADgEcUJAADAI4oTAACARxQnAAAAjyhOAAAAHlGcAAAA\n",
              "PKI4AQAAeERxAgAA8IjiBAAA4BHFCQAAwCOKEwAAgEcUJwAAAI8oTgAAAB75WpxisZjmzZunqqoq\n",
              "hcNhnXXWWdq0aVP3+XQ6rdtuu03Dhg1TOBzW9OnTtXPnTh8TAwCAfOZrcfriF7+oF198UY899pje\n",
              "fPNNnXfeeZo+fbr+8Y9/SJLuvfdePfDAA/rRj36kjRs3qqioSDNmzFA8HvczNgAAyFMF6XQ67ccX\n",
              "7urqUnFxsZ577jldcMEF3ccnT56s2tpa3XHHHRo+fLjmz5+vW2+9VZLU1tamiooKLV++XJdffrmn\n",
              "r9Pe3q7S0lK1tbWppKSkT94LAADID75dcXIcR67rKhQKZRwPh8N6+eWXtWvXLjU3N2v69Ond50pL\n",
              "SzVlyhQ1NDQc77gAAAD+Fafi4mJFo1Hdcccdeuedd+S6rurr69XQ0KB3331Xzc3NkqSKioqMz6uo\n",
              "qOg+1xPbttXe3p7xAAAAyAZf5zg99thjSqfT+uhHPyrLsvTAAw/oiiuuUGFh72MtWbJEpaWl3Y8R\n",
              "I0ZkMTEAAMhnvhanMWPGaP369ero6NDevXv1xz/+UclkUieddJIqKyslSS0tLRmf09LS0n2uJwsX\n",
              "LlRbW1v3Y+/evX36HgAAQP7IiX2cioqKNGzYMB04cEBr167VRRddpNGjR6uyslLr1q3rfl57e7s2\n",
              "btyoaDR6xNeyLEslJSUZDwAAgGww/fzia9euVTqd1sknn6zGxkZ97WtfU3V1tb7whS+ooKBA8+bN\n",
              "05133qlx48Zp9OjRWrRokYYPH66LL77Yz9gAACBP+Vqc2tratHDhQv3973/XkCFDNGvWLN11110K\n",
              "BAKSpP/3//6fOjs79eUvf1kHDx7U2WefrTVr1hy2Eg8AAOB48G0fp+OFfZwAAEC25MQcJwAAgP6A\n",
              "4gQAAHJaPOlqf4eteNL1O4q/c5wAAACOZF/MVv2G3VqztUVdSVfhgKHaiZWaE63SCRHLl0zMcQIA\n",
              "ADlnX8zW3FVb1NgaU8g0FDQLlXBSijuuxpYXa+mVk3wpTwzVAQCAnFO/YbcaW2Mqi1gaXBRUkWVq\n",
              "cFFQZRFLja0x1Tc0+ZKL4gQAAHJKPOlqzdYWhUxDppFZVUyjUJZpaPW2Zl/mPFGcAABATumwHXUl\n",
              "XQXNnmuKZRaqK+Gqw3aOczKKEwAAyDERy1Q4YCjhpHo8bzsphYOGItbxX+NGcQIAADklFDB0/sQK\n",
              "xR1XjptZnhw3JdtxVVtTqVDAOO7Z2I4AAADknKuio7Rx1wE1tsZkmYYss1C2c6g0jSsv1pxolS+5\n",
              "2I4AAADkpP0dtuobmrR6W7O6Eq7CQUO1Nezj1KcoTgAA9G/x5KGJ4BHL9GV47p8xVAcAAHJaKGD4\n",
              "Xpg+wORwAAD6SC7dYw3ZwRUnAACyLBfvsYbsYI4TAABZlKv3WEN2MFQHAEAW5eo91pAdFCcAALIk\n",
              "l++xhuygOAEAkCW5fI81ZAfFCQCAY/TB6rlAYUHO3mMN2cHfHAAAvdTT6rlBYVP7OmwVu6mM4boP\n",
              "7rF2ac2JObMnEY4exQkAgF7oafVcp+1oXywuJ5VWS8xWOJA791hDdlCcAADohX9ePffBlaUiSyoO\n",
              "mWppj2tceUQHu5LqSriKhExdWnMi+zgNABQnAACO0oetngsHTR3sSuqpL09VMpXOiXusITsoTgAA\n",
              "HCWvq+eSqTRXmAYYVtUBAHCUIpbJ6rk8RXECAOAohQKGzp9YobjjynEzy9MHq+dqayoZnhuAqMIA\n",
              "APTCVdFR2rjrgBpbY7JMVs/lC27yCwBAL+3vsFXf0KTV25rVlXAVDhqqralk9dwARnECAOAYxZOH\n",
              "bqPC6rmBj6E6AACOUShgUJjyBJPDAQAAPKI4AQAAeERxAgAA8IjiBAAA4BHFCQAAwCOKEwAAgEcU\n",
              "JwAAAI8oTgAAAB5RnAAAADyiOAEAAHhEcQIAAPCI4gQAAOARxQkAAMAjihMAAANIPOlqf4eteNL1\n",
              "O8qAZPodAAAAHLt9MVv1G3ZrzdYWdSVdhQOGaidWak60SidELL/jDRgF6XQ67XeIvtTe3q7S0lK1\n",
              "tbWppKTE7zgAAGTdvpituau2qLE1ppBpKGgWKuGkFHdcjS0v1tIrJ1GesoShOgAA+rn6DbvV2BpT\n",
              "WcTS4KKgiixTg4uCKotYamyNqb6hye+IAwbFCQCAfiyedLVma4tCpiHTyPyxbhqFskxDq7c1M+cp\n",
              "SyhOAAD0Yx22o66kq6DZ8490yyxUV8JVh+0c52QDE8UJAIB+LGKZCgcMJZxUj+dtJ6Vw0FDEYj1Y\n",
              "NvhanFzX1aJFizR69GiFw2GNGTNGd9xxh/55vno6ndZtt92mYcOGKRwOa/r06dq5c6ePqQEAyB2h\n",
              "gKHzJ1Yo7rhy3Mzy5Lgp2Y6r2ppKhQKGTwkHFl+L03e+8x09+OCDWrp0qf7yl7/oO9/5ju699179\n",
              "8Ic/7H7OvffeqwceeEA/+tGPtHHjRhUVFWnGjBmKx+M+JgcAIHdcFR2lseXF2tdh673OhDptR+91\n",
              "JrSvw9a48mLNiVb5HXHA8HU7gs9+9rOqqKjQI4880n1s1qxZCofDqq+vVzqd1vDhwzV//nzdeuut\n",
              "kqS2tjZVVFRo+fLluvzyyz/0a7AdAQAgH+zvsFXf0KTV25rVlXAVDhqqrWEfp2zzdcDzrLPO0kMP\n",
              "PaS33npL48eP1xtvvKGXX35Z9913nyRp165dam5u1vTp07s/p7S0VFOmTFFDQ0OPxcm2bdm23f1x\n",
              "e3t7378RAAB8dkLE0rxzx+v6T41Rh+0oYpkMz/UBX4vTggUL1N7erurqahmGIdd1ddddd2n27NmS\n",
              "pObmZklSRUVFxudVVFR0n/tXS5Ys0e233963wQEAyFGhgEFh6kO+znF66qmn9Pjjj2vlypX605/+\n",
              "pBUrVuh73/ueVqxY0evXXLhwodra2rofe/fuzWJiAACQz3y94vS1r31NCxYs6B5yO+WUU9TU1KQl\n",
              "S5bo6quvVmVlpSSppaVFw4YN6/68lpYW/cd//EePr2lZliyLsVwAAJB9vl5xev/991VYmBnBMAyl\n",
              "UoeWU44ePVqVlZVat25d9/n29nZt3LhR0Wj0uGYFAADw9YrThRdeqLvuuksjR45UTU2NtmzZovvu\n",
              "u0/XXnutJKmgoEDz5s3TnXfeqXHjxmn06NFatGiRhg8frosvvtjP6AAAIA/5uh1BLBbTokWL9Mwz\n",
              "z6i1tVXDhw/XFVdcodtuu03BYFDSoQ0wFy9erIceekgHDx7U2WefrWXLlmn8+PGevgbbEQAAgGzx\n",
              "tTgdDxQnAACQLdyrDgAAwCOKEwAAgEcUJwAAAI8oTgAAAB5RnAAAADyiOAEAAHhEcQIAAPCI4gQA\n",
              "AOARxQkAAMAjihMAAIBHFCcAAACPKE4AAAAeUZwAAAA8ojgBAHJCPOlqf4eteNL1OwpwRKbfAQAA\n",
              "+W1fzFb9ht1as7VFXUlX4YCh2omVmhOt0gkRy+94QIaCdDqd9jtEX2pvb1dpaana2tpUUlLidxwA\n",
              "wD/ZF7M1d9UWNbbGFDINBc1CJZyU4o6rseXFWnrlJMoTcgpDdQAA39Rv2K3G1pjKIpYGFwVVZJka\n",
              "XBRUWcRSY2tM9Q1NfkcEMlCcAAC+iCddrdnaopBpyDQyfxyZRqEs09Dqbc3MeUJOoTgBAHzRYTvq\n",
              "SroKmj3/KLLMQnUlXHXYznFOBhwZxQkA4IuIZSocMJRwUj2et52UwkFDEYt1TH2J1YxHh/8bAQC+\n",
              "CAUMnT+xQo9v3CPHTWUM1zluSrbj6tKaExUKGD6mHLhYzdg7FCcAgG+uio7Sxl0H1Ngak2UassxC\n",
              "2c6h0jSuvFhzolV+RxyQelrN2Gk7qt/YpA273mM147/BUB0AwDcnRCwtvXKS5kypUiRkykmlFQmZ\n",
              "mjOlSj/kh3efYTVj77GPEwAgJ8SThyaCRyyT4bk+FE+6umjpK+q0HQ0uCh52/r3OhCIhU8/VTePv\n",
              "oQcM1QEAckIoYPCD+jg4mtWM/H0cjqE6AADyCKsZjw3FCQCAPPLBasa448pxM8vTB6sZa2squdp0\n",
              "BNRJAADyDKsZe4/J4QAA5KH9HbbqG5q0eluzuhKuwkFDtTXs4/RhKE4AAOQxVjMeHYbqAADIY6xm\n",
              "PDpMDgcAAPCI4gQAAOARxQkAAMAjihMAAIBHFCcAAACPKE4AAAAeUZwAAAA8ojgBAAB4RHECAADw\n",
              "iOIEAADgEcUJAADAI4oTAACARxQnAAAAjyhOAAAAHlGcAAAAPKI4AQAAeERxAgAA8IjiBAAA4BHF\n",
              "CQAAwCNfi9OoUaNUUFBw2KOurk6SFI/HVVdXp6FDhyoSiWjWrFlqaWnxMzIAAMhjvhanTZs26d13\n",
              "3+1+vPjii5KkSy+9VJJ088036/nnn9fTTz+t9evX65133tHMmTP9jAwAAPJYQTqdTvsd4gPz5s3T\n",
              "Cy+8oJ07d6q9vV1lZWVauXKlLrnkEknSX//6V02YMEENDQ2aOnWqp9dsb29XaWmp2traVFJS0pfx\n",
              "AQDAAJczc5wSiYTq6+t17bXXqqCgQJs3b1YymdT06dO7n1NdXa2RI0eqoaHhiK9j27ba29szHgAA\n",
              "ANmQM8Xp2Wef1cGDB3XNNddIkpqbmxUMBjVo0KCM51VUVKi5ufmIr7NkyRKVlpZ2P0aMGNGHqQEA\n",
              "QD7JmeL0yCOPqLa2VsOHDz+m11m4cKHa2tq6H3v37s1SQgAAkO9MvwNIUlNTk37zm9/o5z//efex\n",
              "yspKJRIJHTx4MOOqU0tLiyorK4/4WpZlybKsvowLABhA4klXHbajiGUqFDD8joMclxPF6dFHH1V5\n",
              "ebkuuOCC7mOTJ09WIBDQunXrNGvWLEnSjh07tGfPHkWjUb+iAgAGiH0xW/UbdmvN1hZ1JV2FA4Zq\n",
              "J1ZqTrRKJ0T4BRw98704pVIpPfroo7r66qtlmv8Xp7S0VNddd51uueUWDRkyRCUlJZo7d66i0ajn\n",
              "FXUAAPRkX8zW3FVb1NgaU8g0FDQL1Wk7qt/YpA273tPSKydRntAj34vTb37zG+3Zs0fXXnvtYefu\n",
              "v/9+FRYWatasWbJtWzNmzNCyZct8SAkAGEjqN+xWY2tMZRFLpnFoum+RJTluSo2tMdU3NGneueN9\n",
              "TolclFP7OPUF9nECAPyzeNLVRUtfUaftaHBR8LDz73UmFAmZeq5uGnOecJicWVUHAMDx0GE76kq6\n",
              "Cpo9/wi0zEJ1JQ5NGAf+FcUJAJBXIpapcMBQwkn1eN52UgoHDUUs32ezIAdRnAAAeSUUMHT+xArF\n",
              "HVeOm1meHDcl23FVW1PJMB16RJ0GAOSdq6KjtHHXATW2xmSZhiyzULZzqDSNKy/WnGiV3xGRo5gc\n",
              "DgDIS/s7bNU3NGn1tmZ1JVyFg4Zqa9jHCf8exQkAkNfYORxHg6E6AEBeCwUMChM8Y3I4AAwg8aSr\n",
              "/R224knX7yjAgMQVJwAYALjvGnB8MMcJAPq5nu67lnBSijuuxpYXc981IIsYqgOAfu6f77s2uCio\n",
              "IsvU4KKgyiJW933XAGQHxQkA+rF40tWarS0KmUb3zWo/YBqFskxDq7c1M+cJyBKKEwD0Y9x3DTi+\n",
              "KE4A0I9x3zXg+KI4AUA/xn3XgOOLX0EAoJ/jvmvA8cN2BAAwAHDfNeD4oDgBwADCfdeAvsVQHQAM\n",
              "INx3DehbTA4HAADwiOIEAADgEcUJAADAI4oTAACARxQnAAAAjyhOAAAAHlGcAAAAPKI4AQAAeERx\n",
              "AgAA8IjiBAAA4BHFCQAAwCOKEwAAgEcUJwAAAI8oTgAAAB5RnAAAADyiOAEAAHhEcQIAAPCI4gQA\n",
              "AOARxQkAAMAjihMA5LB40tX+DlvxpOt3FACSTL8DAAAOty9mq37Dbq3Z2qKupKtwwFDtxErNiVbp\n",
              "hIjldzwgbxWk0+m03yH6Unt7u0pLS9XW1qaSkhK/4wDAh9oXszV31RY1tsYUMg0FzUIlnJTijqux\n",
              "5cVaeuUkyhPgE4bqACDH1G/YrcbWmMoilgYXBVVkmRpcFFRZxFJja0z1DU1+RwTyFsUJAHJIPOlq\n",
              "zdYWhUxDppH5Ldo0CmWZhlZva2bOE+ATihMA5JAO21FX0lXQ7Pnbs2UWqivhqsN2jnMyABLFCQBy\n",
              "SsQyFQ4YSjipHs/bTkrhoKGIxdoewA8UJwDIIaGAofMnVijuuHLczPLkuCnZjqvamkqFAoZPCYH8\n",
              "xq8sAJBjroqO0sZdB9TYGpNlGrLMQtnOodI0rrxYc6JVfkcE8hbbEQBADtrfYau+oUmrtzWrK+Eq\n",
              "HDRUW8M+ToDfKE4AkMPiyUMTwSOWyfAckAMYqgOAHBYKGBQmIIf4Pjn8H//4h+bMmaOhQ4cqHA7r\n",
              "lFNO0WuvvdZ9Pp1O67bbbtOwYcMUDoc1ffp07dy508fEAJCJ+8kB+cPXK04HDhzQtGnT9OlPf1qr\n",
              "V69WWVmZdu7cqcGDB3c/595779UDDzygFStWaPTo0Vq0aJFmzJih7du3KxQK+ZgeQL7jfnJA/vF1\n",
              "jtOCBQv0yiuv6A9/+EOP59PptIYPH6758+fr1ltvlSS1tbWpoqJCy5cv1+WXX/6hX4M5TgD6AveT\n",
              "A/KTr0N1v/jFL3TGGWfo0ksvVXl5uSZNmqSHH364+/yuXbvU3Nys6dOndx8rLS3VlClT1NDQ4Edk\n",
              "AJDE/eSAfOVrcXr77bf14IMPaty4cVq7dq1uuOEG3XTTTVqxYoUkqbm5WZJUUVGR8XkVFRXd5/6V\n",
              "bdtqb2/PeABANnE/OSB/+TrHKZVK6YwzztDdd98tSZo0aZK2bt2qH/3oR7r66qt79ZpLlizR7bff\n",
              "ns2YAJDhaO4nx4o4YGDx9YrTsGHD9LGPfSzj2IQJE7Rnzx5JUmVlpSSppaUl4zktLS3d5/7VwoUL\n",
              "1dbW1v3Yu3dvHyQHkM+4nxyQv3wtTtOmTdOOHTsyjr311luqqjp0O4HRo0ersrJS69at6z7f3t6u\n",
              "jRs3KhqN9vialmWppKQk4wEA2cT95ID8lZXi1N7ermeffVZ/+ctfjurzbr75Zm3YsEF33323Ghsb\n",
              "tXLlSj300EOqq6uTJBUUFGjevHm688479Ytf/EJvvvmmPv/5z2v48OG6+OKLsxEdAHrlqugojS0v\n",
              "1r4OW+91JtRpO3qvM6F9HTb3kwMGsF5tR/C5z31On/jEJ3TjjTeqq6tLp512mnbv3q10Oq0nnnhC\n",
              "s2bN8vxaL7zwghYuXKidO3dq9OjRuuWWW/SlL32p+3w6ndbixYv10EMP6eDBgzr77LO1bNkyjR8/\n",
              "3tPrsx0BgL7C/eSA/NOr4lRZWam1a9fqtNNO08qVK7V48WK98cYbWrFihR566CFt2bKlL7L2CsUJ\n",
              "QF/jfnJA/ujVUF1bW5uGDBkiSVqzZo1mzZqlj3zkI7rgggu4HQqAvBMKGDohYlGagDzQq+I0YsQI\n",
              "NTQ0qLOzU2vWrNF5550n6dAtVLgNCgAAGKh6tVZ23rx5mj17tiKRiEaOHKlPfepTkqSXXnpJp5xy\n",
              "SjbzAQAA5Ixe36vutdde0969e3XuuecqEolIkn75y19q0KBBmjZtWlZDHgvmOAEAgGw5ppv8JhIJ\n",
              "7dq1S2PGjJFp5uZGbxQnAACQLb2a4/T+++/ruuuu00c+8hHV1NR07/Q9d+5c3XPPPVkNCAAAkCt6\n",
              "VZwWLlyoN954Q7///e8zJoNPnz5dTz75ZNbCAQAA5JJeja89++yzevLJJzV16lQVFBR0H6+pqdHf\n",
              "/va3rIUDAADIJb264rRv3z6Vl5cfdryzszOjSAEAAAwkvSpOZ5xxhn75y192f/xBWfrJT35yxJvv\n",
              "AgAA9He9Gqq7++67VVtbq+3bt8txHP3gBz/Q9u3b9eqrr2r9+vXZzggAAJATenXF6eyzz9Ybb7wh\n",
              "x3F0yimn6Ne//rXKy8vV0NCgyZMnZzsjAABATjjqfZySyaT++7//W4sWLdLo0aP7KlfWsI8TAADI\n",
              "lqO+4hQIBPSzn/2sL7IAAADktF4N1V188cV69tlnsxwFAAAgt/Vqcvi4ceP07W9/W6+88oomT56s\n",
              "oqKijPM33XRTVsIBAADkkl7dq+7fzW0qKCjQ22+/fUyhsok5TgAAIFt6dcVp165d2c4BAACQ83o1\n",
              "x+mfpdNp9eKiFQAAQL/T6+L005/+VKeccorC4bDC4bBOPfVUPfbYY9nMBgAAkFN6NVR33333adGi\n",
              "Rbrxxhs1bdo0SdLLL7+s66+/Xvv379fNN9+c1ZAAAAC5oNeTw2+//XZ9/vOfzzi+YsUKfetb38qp\n",
              "OVBMDgcAANnSq6G6d999V2edddZhx8866yy9++67xxwKAAAgF/WqOI0dO1ZPPfXUYceffPJJjRs3\n",
              "7phDAQAA5KJezXG6/fbbddlll+mll17qnuP0yiuvaN26dT0WKgAAgIGgV3OcJGnz5s26//779Ze/\n",
              "/EWSNGHCBM2fP1+TJk3KasBjxRwnAACQLb0uTv0FxQno3+JJVx22o4hlKhQw/I4DIM/1aqjuV7/6\n",
              "lQzD0IwZMzKOr127VqlUSrW1tVkJByB/7YvZqt+wW2u2tqgr6SocMFQ7sVJzolU6IWL5HQ9AnurV\n",
              "5PAFCxbIdd3DjqfTaS1YsOCYQwHIb/tituau2qLHN+5Rp+3ILCxQp+2ofmOTbly5Rfs7bL8jAshT\n",
              "vSpOO3fu1Mc+9rHDjldXV6uxsfGYQwHIb/UbdquxNaayiKXBRUEVWaYGFwVVFrHU2BpTfUOT3xEB\n",
              "5KleFafS0lK9/fbbhx1vbGxUUVHRMYcCkL/iSVdrtrYoZBoyjcxvUaZRKMs0tHpbs+LJw696A0Bf\n",
              "61VxuuiiizRv3jz97W9/6z7W2Nio+fPn67/+67+yFg5A/umwHXUlXQXNnr89WWahuhKHJowDwPHW\n",
              "q+J07733qqioSNXV1Ro9erRGjx6t6upqDR06VN/73veynRFAHolYpsIBQwkn1eN520kpHDQUsXq1\n",
              "tgUAjkmvvvOUlpbq1Vdf1Ysvvqg33nhD4XBYp512mj7+8Y9nOx+APBMKGDp/YoUe37hHjpvKGK5z\n",
              "3JRsx9WlNSeyNQEAXxzVFaeGhga98MILkqSCggKdd955Ki8v1/e+9z3NmjVLX/7yl2XbrHYBcGyu\n",
              "io7S2PJi7euw9V5nQp22o/c6E9rXYWtcebHmRKv8jgggTx1Vcfr2t7+tbdu2dX/85ptv6ktf+pLO\n",
              "PfdcLViwQM8//7yWLFmS9ZAA8ssJEUtLr5ykOVOqFAmZclJpRUKm5kyp0g+vnMQ+TgB8c1Q7hw8b\n",
              "NkzPP/+8zjjjDEnSN7/5Ta1fv14vv/yyJOnpp5/W4sWLtX379r5J2wvsHA70b+wcDiCXHNUcpwMH\n",
              "DqiioqL74/Xr12fsEn7mmWdq79692UsHIO+FAgaFCUDOOKqhuoqKCu3atUuSlEgk9Kc//UlTp07t\n",
              "Ph+LxRQIBLKbEAAAIEccVXH6z//8Ty1YsEB/+MMftHDhQn3kIx/JWEn35z//WWPGjMl6SAAAgFxw\n",
              "VEN1d9xxh2bOnKlPfvKTikQiWrFihYLBYPf5//mf/9F5552X9ZAAAAC54Kgmh3+gra1NkUhEhpE5\n",
              "7+C9995TJBLJKFN+Y3I4AADIll5vgNmTIUOGHFMYAACAXNarW64AAADkI4oTAACARxQnAAAAjyhO\n",
              "AAAAHlGcAAAAPKI4AQAAeERxAgAA8IjiBAAA4JGvxelb3/qWCgoKMh7V1dXd5+PxuOrq6jR06FBF\n",
              "IhHNmjVLLS0tPiYGAAD5zPcrTjU1NXr33Xe7Hy+//HL3uZtvvlnPP/+8nn76aa1fv17vvPOOZs6c\n",
              "6WNaAACQz3p1y5WsBjBNVVZWHna8ra1NjzzyiFauXKnPfOYzkqRHH31UEyZM0IYNGzR16tTjHRUA\n",
              "AOQ536847dy5U8OHD9dJJ52k2bNna8+ePZKkzZs3K5lMavr06d3Pra6u1siRI9XQ0HDE17NtW+3t\n",
              "7RkPAACAbPC1OE2ZMkXLly/XmjVr9OCDD2rXrl36+Mc/rlgspubmZgWDQQ0aNCjjcyoqKtTc3HzE\n",
              "11yyZIlKS0u7HyNGjOjjdwEAAPKFr0N1tbW13f996qmnasqUKaqqqtJTTz2lcDjcq9dcuHChbrnl\n",
              "lu6P29vbKU8AACArfB+q+2eDBg3S+PHj1djYqMrKSiUSCR08eDDjOS0tLT3OifqAZVkqKSnJeAAA\n",
              "AGRDThWnjo4O/e1vf9OwYcM0efJkBQIBrVu3rvv8jh07tGfPHkWjUR9TAgCAfOXrUN2tt96qCy+8\n",
              "UFVVVXrnnXe0ePFiGYahK664QqWlpbruuut0yy23aMiQISopKdHcuXMVjUZZUQcAAHzha3H6+9//\n",
              "riuuuEL/+7//q7KyMp199tnasGGDysrKJEn333+/CgsLNWvWLNm2rRkzZmjZsmV+RgYAAHmsIJ1O\n",
              "p/0O0Zfa29tVWlqqtrY25jsBAIBjklNznAAAAHIZxQkAAMAjihMAAIBHFCcAAACPKE4AAAAeUZwA\n",
              "AAA8ojgBAAB4RHECkBfiSVf7O2zFk67fUQD0Y77uHA4AfW1fzFb9ht1as7VFXUlX4YCh2omVmhOt\n",
              "0gkRy+94APoZdg4HMGDti9mau2qLGltjCpmGgmahEk5KccfV2PJiLb1yEuUJwFFhqA7AgFW/Ybca\n",
              "W2Mqi1gaXBRUkWVqcFFQZRFLja0x1Tc0+R0RQD9DcQIwIMWTrtZsbVHINGQamd/qTKNQlmlo9bZm\n",
              "5jwBOCoUJwADUoftqCvpKmj2/G3OMgvVlXDVYTvHORmA/oziBGBAilimwgFDCSfV43nbSSkcNBSx\n",
              "WCMDwDuKE4ABKRQwdP7ECsUdV46bWZ4cNyXbcVVbU6lQwPApIYD+iF+1AAxYV0VHaeOuA2psjcky\n",
              "DVlmoWznUGkaV16sOdEqvyMC6GfYjgDAgLa/w1Z9Q5NWb2tWV8JVOGiotoZ9nAD0DsUJQF6IJw9N\n",
              "BI9YJsNzAHqNoToAeSEUMChMAI4Zk8MBAAA8ojgBAAB4RHECAADwiOIEAADgEcUJAADAI4oTAACA\n",
              "RxQnAAAAjyhOAAAAHlGcAAAAPKI4AQAAeERxAgAA8IjiBAAA4BHFCQAAwCOKEwAAgEcUJwAAAI8o\n",
              "TgAAAB5RnAAAADyiOAEAAHhEcQKOUTzpan+HrXjS9TsKAKCPmX4HAPqrfTFb9Rt2a83WFnUlXYUD\n",
              "hmonVmpOtEonRCy/4wEA+kBBOp1O+x2iL7W3t6u0tFRtbW0qKSnxOw4GiH0xW3NXbVFja0wh01DQ\n",
              "LFTCSSnuuBpbXqylV06iPAHAAMRQHdAL9Rt2q7E1prKIpcFFQRVZpgYXBVUWsdTYGlN9Q5PfEQEA\n",
              "fYDiBByleNLVmq0tCpmGTCPzn5BpFMoyDa3e1sycJwAYgChOwFHqsB11JV0FzZ7/+VhmoboSrjps\n",
              "5zgnAwD0NYoTcJQilqlwwFDCSfV43nZSCgcNRaz8XnvBakMAA1F+f2cHeiEUMHT+xAo9vnGPHDeV\n",
              "MVznuCnZjqtLa05UKGD4mNI/rDYEMJBRnIBeuCo6Sht3HVBja0yWacgyC2U7h0rTuPJizYlW+R3R\n",
              "Fz2tNuy0HdVvbNKGXe+x2hBAv8dQHdALJ0QsLb1ykuZMqVIkZMpJpRUJmZozpUo/zONywGpDAAMd\n",
              "+zgBxyiePDQRPGKZeTs8Jx36c7ho6SvqtB0NLgoedv69zoQiIVPP1U3L6z8nAP0bQ3XAMQoFDIqA\n",
              "jm61IX9eAPorhuoAZAWrDQHkg5wpTvfcc48KCgo0b9687mPxeFx1dXUaOnSoIpGIZs2apZaWFv9C\n",
              "AjiiD1Ybxh1XjptZnj5YbVhbU8nVJgD9Wk4Up02bNunHP/6xTj311IzjN998s55//nk9/fTTWr9+\n",
              "vd555x3NnDnTp5QAPsxV0VEaW16sfR223utMqNN29F5nQvs67LxebQhg4PC9OHV0dGj27Nl6+OGH\n",
              "NXjw4O7jbW1teuSRR3TffffpM5/5jCZPnqxHH31Ur776qjZs2OBjYgBHwmpDAAOd75MN6urqdMEF\n",
              "F2j69Om68847u49v3rxZyWRS06dP7z5WXV2tkSNHqqGhQVOnTvUjLoAPcULE0rxzx+v6T41htSGA\n",
              "AcfX4vTEE0/oT3/6kzZt2nTYuebmZgWDQQ0aNCjjeEVFhZqbm4/4mrZty7bt7o/b29uzlheAd6w2\n",
              "BDAQ+TZUt3fvXn31q1/V448/rlAolLXXXbJkiUpLS7sfI0aMyNprAwCA/OZbcdq8ebNaW1t1+umn\n",
              "yzRNmaap9evX64EHHpBpmqqoqFAikdDBgwczPq+lpUWVlZVHfN2FCxeqra2t+7F3794+ficAACBf\n",
              "+DZUd8455+jNN9/MOPaFL3xB1dXV+vrXv64RI0YoEAho3bp1mjVrliRpx44d2rNnj6LR6BFf17Is\n",
              "WRYTUAEAQPb5VpyKi4s1ceLEjGNFRUUaOnRo9/HrrrtOt9xyi4YMGaKSkhLNnTtX0WiUieEAAMAX\n",
              "vq+q+3fuv/9+FRYWatasWbJtWzNmzNCyZcv8jgUAAPIUN/kFAADwyPcNMAEAAPoLihMAAIBHFCcA\n",
              "AACPKE4AAAAeUZwAAAA8ojgBAAB4RHECAADwiOIEAADgEcUJAADAI4oTAACARxQnAAAAjyhOAAAA\n",
              "HlGcAAAAPKI4AQAAeERxAgAA8IjiBAAA4BHFCQAAwCOKEwAAgEcUJwAAAI8oTkA/FE+62t9hK550\n",
              "/Y4CAHnF9DsAAO/2xWzVb9itNVtb1JV0FQ4Yqp1YqTnRKp0QsfyOBwADXkE6nU77HaIvtbe3q7S0\n",
              "VG1tbSopKfE7DtBr+2K25q7aosbWmEKmoaBZqISTUtxxNba8WEuvnER5AoA+xlAd0E/Ub9itxtaY\n",
              "yiKWBhcFVWSZGlwUVFnEUmNrTPUNTX5HBIABj+IE9APxpKs1W1sUMg2ZRuY/W9MolGUaWr2tmTlP\n",
              "ANDHKE5AP9BhO+pKugqaPf+TtcxCdSVcddjOcU4GAPmF4gT0AxHLVDhgKOGkejxvOymFg4YiFus9\n",
              "AKAvUZyAfiAUMHT+xArFHVeOm1meHDcl23FVW1OpUMDwKSEA5Ad+PQX6iauio7Rx1wE1tsZkmYYs\n",
              "s1C2c6g0jSsv1pxold8RAWDAYzsCoB/Z32GrvqFJq7c1qyvhKhw0VFvDPk4AcLxQnIB+KJ48NBE8\n",
              "YpkMzwHAccRQHdAPhQIGhQkAfMDkcAAAAI8oTgAAAB5RnAAAADyiOAEAAHhEcQIAAPCI4gQAAOAR\n",
              "xQkAAMAjihMAAIBHFCcAAACPKE4AAAAeUZwAAAA8ojgBAAB4RHECAADwiOIEAADgEcUJAADAI4oT\n",
              "AACARxQnAAAAjyhOAAAAHlGcAAAAPPK1OD344IM69dRTVVJSopKSEkWjUa1evbr7fDweV11dnYYO\n",
              "HapIJKJZs2appaXFx8ToK/Gkq/0dtuJJt0+en0v6c3YAyHcF6XQ67dcXf/7552UYhsaNG6d0Oq0V\n",
              "K1bou9/9rrZs2aKamhrdcMMN+uUvf6nly5ertLRUN954owoLC/XKK694/hrt7e0qLS1VW1ubSkpK\n",
              "+vDdoDf2xWzVb9itNVtb1JV0FQ4Yqp1YqTnRKp0QsY75+bmkP2cHABzia3HqyZAhQ/Td735Xl1xy\n",
              "icrKyrRy5UpdcsklkqS//vWvmjBhghoaGjR16lRPr0dxyl37YrbmrtqixtaYQqahoFmohJNS3HE1\n",
              "trxYS6+clFEojvb5uaQ/ZwcA/J+cmePkuq6eeOIJdXZ2KhqNavPmzUomk5o+fXr3c6qrqzVy5Eg1\n",
              "NDT4mBTZUr9htxpbYyqLWBpcFFSRZWpwUVBlEUuNrTHVNzQd0/NzSX/ODgD4P74XpzfffFORSESW\n",
              "Zen666/XM888o4997GNqbm5WMBjUoEGDMp5fUVGh5ubmI76ebdtqb2/PeCD3xJOu1mxtUcg0ZBqZ\n",
              "/xuaRqEs09Dqbc3d84CO9vm5pD9nBwBk8r04nXzyyXr99de1ceNG3XDDDbr66qu1ffv2Xr/ekiVL\n",
              "VFpa2v0YMWJEFtMiWzpsR11JV0Gz5/8FLbNQXQlXHbbTq+fnkv6cHQCQyffiFAwGNXbsWE2ePFlL\n",
              "lizRaaedph/84AeqrKxUIpHQwYMHM57f0tKiysrKI77ewoUL1dbW1v3Yu3dvH78D9EbEMhUOGEo4\n",
              "qR7P205K4aChiGX26vm5pD9nBwBk8r04/atUKiXbtjV58mQFAgGtW7eu+9yOHTu0Z88eRaPRI36+\n",
              "ZVnd2xt88EDuCQUMnT+xQnHHleNmFgrHTcl2XNXWVCoUMHr1/FzSn7MDADL5+ivuwoULVVtbq5Ej\n",
              "RyoWi2nlypX6/e9/r7Vr16q0tFTXXXedbrnlFg0ZMkQlJSWaO3euotGo5xV1yG1XRUdp464DamyN\n",
              "yTINWWahbOdQkRhXXqw50apjen4u6c/ZAQD/x9ftCK677jqtW7dO7777rkpLS3Xqqafq61//us49\n",
              "91xJhzbAnD9/vlatWiXbtjVjxgwtW7bs3w7V/Su2I8ht+zts1Tc0afW2ZnUlXIWDhmprjry30dE+\n",
              "P5f05+wAgENybh+nbKM49Q/x5KHJ0RHL9DRkdbTPzyX9OTsA5DtmoyInhALGUZWIo31+LunP2QEg\n",
              "3+Xc5HAAAIBcRXECAADwiOIEAADgEcUJAADAI4oTAACARxQnAAAAjyhOgEfxpKv9HbbiSdfvKAAA\n",
              "n7CPE/Ah9sVs1W/YrTVbW9SVdBUOGKqdyI7fAJCP2Dkc+Df2xWzNXbVFja0xhUxDQbNQCSeluONq\n",
              "bHmxll45ifIEAHmEoTrg36jfsFuNrTGVRSwNLgqqyDI1uCiosoilxtaY6hua/I4IADiOKE7AEcST\n",
              "rtZsbVHINGQamf9UTKNQlmlo9bZm5jwBQB6hOAFH0GE76kq6Cpo9/zOxzEJ1JQ7dsBcAkB8oTsAR\n",
              "RCxT4YChhJPq8bztpBQOGopYrLEAgHxBcQKOIBQwdP7ECsUdV46bWZ4cNyXbcVVbU6lQwPApIQDg\n",
              "eONXZeDfuCo6Sht3HVBja0yWacgyC2U7h0rTuPJizYlW+R0RAHAcsR0B8CH2d9iqb2jS6m3N6kq4\n",
              "CgcN1dawjxMA5COKE+BRPHloInjEMhmeA4A8xVAd4FEoYFCYACDPMTkcAADAI4oT+iVuuAsA8AND\n",
              "dehXuOEuAMBPTA5Hv8ENdwEAfmOoDv0GN9wFAPiN4oR+gRvuAgByAcUJ/QI33AUA5AKKUx7rTyvT\n",
              "uOEuACAX8FMmD/XHlWkf3HD38Y175LipjOG6D264e2nNiWxQCQDoUxSnPNPTyrRO21H9xiZt2PVe\n",
              "Tq9M44a7AAC/MVSXZ/rzyrQTIpaWXjlJc6ZUKRIy5aTSioRMzZlSpR/mcOEDAAwc7OOUR+JJVxct\n",
              "fUWdtqPBRcHDzr/XmVAkZOq5umk5P+TFDXcBAH5gqC6PHM3KtFwvI9xwFwDgB4bq8ggr0wAAODYU\n",
              "pzzywcq0uOPKcTPL0wcr02prKrmSAwDAEXBpIc+wMg0AgN5jcnge2t9hq76hSau3Nasr4SocNFRb\n",
              "k9v7OAEAkAsoTnmMlWkAABwdhuryGCvTAAA4OkwOBwAA8IjiBAAA4BHFCQAAwCOKEwAAgEcUJwAA\n",
              "AI8oTgAAAB5RnJAT4klX+ztsxZOu31EAADgi9nGCr/bFbNVv2K01W1vUlXQVDhiqncgu5gCA3MTO\n",
              "4fDNvpituau2qLE1ppBpKGgWKuGkFHdcjS0v1tIrJ1GeAAA5haE6+KZ+w241tsZUFrE0uCioIsvU\n",
              "4KKgyiKWGltjqm9o8jsiAAAZKE7wRTzpas3WFoVMQ6aR+b+haRTKMg2t3tbMnCcAQE6hOMEXHbaj\n",
              "rqSroNnz/4KWWaiuxKGbEAMAkCsoTjlsIK80i1imwgFDCSfV43nbSSkcNBSxWL8AAMgdvhanJUuW\n",
              "6Mwzz1RxcbHKy8t18cUXa8eOHRnPicfjqqur09ChQxWJRDRr1iy1tLT4lPj42Bezdf+LO3TR0lc0\n",
              "c9mrumjpK/r/XnxL+ztsv6NlTShg6PyJFYo7rhw3szw5bkq246q2plKhgOFTQgAADudrcVq/fr3q\n",
              "6uq0YcMGvfjii0omkzrvvPPU2dnZ/Zybb75Zzz//vJ5++mmtX79e77zzjmbOnOlj6r71wUqzxzfu\n",
              "UaftyCwsUKftqH5jk25cuWVAlaeroqM0trxY+zpsvdeZUKft6L3OhPZ12BpXXqw50Sq/IwIAkCGn\n",
              "tiPYt2+fysvLtX79en3iE59QW1ubysrKtHLlSl1yySWSpL/+9a+aMGGCGhoaNHXq1A99zf62HcH9\n",
              "L+7Q4xv3qCxiZUyadtyU9nXYmjOlSvPOHe9jwuza32GrvqFJq7c1qyvhKhw0VFvDPk4AgNyUUxNI\n",
              "2traJElDhgyRJG3evFnJZFLTp0/vfk51dbVGjhx5xOJk27Zs+/+uyrS3t/dx6uzxutLs+k+NGTBD\n",
              "WCdELM07d7yu/9QYddiOIpY5YN4bAGDgyZnJ4alUSvPmzdO0adM0ceJESVJzc7OCwaAGDRqU8dyK\n",
              "igo1Nzf3+DpLlixRaWlp92PEiBF9HT1r8nmlWShg6ISIRWkCAOS0nClOdXV12rp1q5544oljep2F\n",
              "Cxeqra2t+7F3794sJex7rDQDACC35URxuvHGG/XCCy/od7/7nU488cTu45WVlUokEjp48GDG81ta\n",
              "WlRZWdnja1mWpZKSkoxHf8FKMwAAcpuvxSmdTuvGG2/UM888o9/+9rcaPXp0xvnJkycrEAho3bp1\n",
              "3cd27NihPXv2KBqNHu+4xwUrzQAAyF2+rqr7yle+opUrV+q5557TySef3H28tLRU4XBYknTDDTfo\n",
              "V7/6lZYvX66SkhLNnTtXkvTqq696+hr9bVWdxEozAAByla/FqaCgoMfjjz76qK655hpJhzbAnD9/\n",
              "vlatWiXbtjVjxgwtW7bsiEN1/6o/FqcPxJMuK80AAMghObWPU1/oz8UJAADklpyYHA4AANAfUJwA\n",
              "AAA8ojgBAAB4RHECAADwiOIEAADgEcUJAADAI4oTAACARxSnYxRPutrfYSuedP2OAgAA+pjpd4D+\n",
              "al/MVv2G3VqztUVdSVfhgKHaidwWBQCAgYydw3thX8zW3FVb1NgaU8g0FDQLlXBSijuuxpYXa+mV\n",
              "kyhPAAAMQAzV9UL9ht1qbI2pLGJpcFFQRZapwUVBlUUsNbbGVN/Q5HdEAADQByhORymedLVma4tC\n",
              "piHTyPzjM41CWaah1duamfMEAMAARHE6Sh22o66kq6DZ8x+dZRaqK+Gqw3aOczIAANDXKE5HKWKZ\n",
              "CgcMJZxUj+dtJ6Vw0FDEYt49AAADDcXpKIUChs6fWKG448pxM8uT46ZkO65qayoVChg+JQQAAH2F\n",
              "yyK9cFV0lDbuOqDG1pgs05BlFsp2DpWmceXFmhOt8jsiAADoA2xH0Ev7O2zVNzRp9bZmdSVchYOG\n",
              "amvYxwkAgIGM4nSM4slDE8EjlsnwHAAAAxxDdccoFDAoTAAA5AkmhwMAAHhEcQIAAPCI4gQAAOAR\n",
              "xQkAAMAjihMAAIBHFCcAAACPKE4AAAAeUZwAAAA8ojgBAAB4RHECAADwiOIEAADgEcUJAADAI4oT\n",
              "AACARxQnAAAAjyhOAAAAHlGcAAAAPDL9DtDX0um0JKm9vd3nJAAAIJcVFxeroKDg3z5nwBenWCwm\n",
              "SRoxYoTPSQAAQC5ra2tTSUnJv31OQfqDSzIDVCqV0jvvvOOpRf477e3tGjFihPbu3fuhf6j9Xb68\n",
              "13x5nxLvdSDKl/cp8V4Holx9n1xxklRYWKgTTzwxa69XUlKSU3/JfSlf3mu+vE+J9zoQ5cv7lHiv\n",
              "A1F/fJ9MDgcAAPCI4gQAAOARxckjy7K0ePFiWZbld5Q+ly/vNV/ep8R7HYjy5X1KvNeBqD+/zwE/\n",
              "ORwAACBbuOIEAADgEcUJAADAI4oTAACARxSnD/HSSy/pwgsv1PDhw1VQUKBnn33W70h9YsmSJTrz\n",
              "zDNVXFys8vJyXXzxxdqxY4ffsfrEgw8+qFNPPbV7/5BoNKrVq1f7HavP3XPPPSooKNC8efP8jpJ1\n",
              "3/rWt1RQUJDxqK6u9jtWn/nHP/6hOXPmaOjQoQqHwzrllFP02muv+R0r60aNGnXY32tBQYHq6ur8\n",
              "jpZVrutq0aJFGj16tMLhsMaMGaM77rhDA3UKciwW07x581RVVaVwOKyzzjpLmzZt8juWZwN+A8xj\n",
              "1dnZqdNOO03XXnutZs6c6XecPrN+/XrV1dXpzDPPlOM4+sY3vqHzzjtP27dvV1FRkd/xsurEE0/U\n",
              "Pffco3HjximdTmvFihW66KKLtGXLFtXU1Pgdr09s2rRJP/7xj3Xqqaf6HaXP1NTU6De/+U33x6Y5\n",
              "ML+9HThwQNOmTdOnP/1prV69WmVlZdq5c6cGDx7sd7Ss27Rpk1zX7f5469atOvfcc3XppZf6mCr7\n",
              "vvOd7+jBBx/UihUrVFNTo9dee01f+MIXVFpaqptuusnveFn3xS9+UVu3btVjjz2m4cOHq76+XtOn\n",
              "T9f27dv10Y9+1O94Hy4NzySln3nmGb9jHBetra1pSen169f7HeW4GDx4cPonP/mJ3zH6RCwWS48b\n",
              "Ny794osvpj/5yU+mv/rVr/odKesWL16cPu200/yOcVx8/etfT5999tl+x/DFV7/61fSYMWPSqVTK\n",
              "7yhZdcEFF6SvvfbajGMzZ85Mz54926dEfef9999PG4aRfuGFFzKOn3766elvfvObPqU6OgzVoUdt\n",
              "bW2SpCFDhvicpG+5rqsnnnhCnZ2dikajfsfpE3V1dbrgggs0ffp0v6P0qZ07d2r48OE66aSTNHv2\n",
              "bO3Zs8fvSH3iF7/4hc444wxdeumlKi8v16RJk/Twww/7HavPJRIJ1dfX69prrz2m+47morPOOkvr\n",
              "1q3TW2+9JUl644039PLLL6u2ttbnZNnnOI5c11UoFMo4Hg6H9fLLL/uU6ugMzGvZOCapVErz5s3T\n",
              "tGnTNHHiRL/j9Ik333xT0WhU8XhckUhEzzzzjD72sY/5HSvrnnjiCf3pT3/qV/MHemPKlClavny5\n",
              "Tj75ZL377ru6/fbb9fGPf1xbt25VcXGx3/Gy6u2339aDDz6oW265Rd/4xje0adMm3XTTTQoGg7r6\n",
              "6qv9jtdnnn32WR08eFDXXHON31GybsGCBWpvb1d1dbUMw5Drurrrrrs0e/Zsv6NlXXFxsaLRqO64\n",
              "4w5NmDBBFRUVWrVqlRoaGjR27Fi/43nj9yWv/kR5MlR3/fXXp6uqqtJ79+71O0qfsW07vXPnzvRr\n",
              "r72WXrBgQfqEE05Ib9u2ze9YWbVnz550eXl5+o033ug+NlCH6v7VgQMH0iUlJQNy+DUQCKSj0WjG\n",
              "sblz56anTp3qU6Lj47zzzkt/9rOf9TtGn1i1alX6xBNPTK9atSr95z//Of3Tn/40PWTIkPTy5cv9\n",
              "jtYnGhsb05/4xCfSktKGYaTPPPPM9OzZs9PV1dV+R/OEK07IcOONN+qFF17QSy+9pBNPPNHvOH0m\n",
              "GAx2/3YzefJkbdq0ST/4wQ/04x//2Odk2bN582a1trbq9NNP7z7muq5eeuklLV26VLZtyzAMHxP2\n",
              "nUGDBmn8+PFqbGz0O0rWDRs27LCroxMmTNDPfvYznxL1vaamJv3mN7/Rz3/+c7+j9Imvfe1rWrBg\n",
              "gS6//HJJ0imnnKKmpiYtWbJkQF5FHDNmjNavX6/Ozk61t7dr2LBhuuyyy3TSSSf5Hc0T5jhBkpRO\n",
              "p3XjjTfqmWee0W9/+1uNHj3a70jHVSqVkm3bfsfIqnPOOUdvvvmmXn/99e7HGWecodmzZ+v1118f\n",
              "sKVJkjo6OvS3v/1Nw4YN8ztK1k2bNu2wrULeeustVVVV+ZSo7z366KMqLy/XBRdc4HeUPvH++++r\n",
              "sDDzx7FhGEqlUj4lOj6Kioo0bNgwHThwQGvXrtVFF13kdyRPuOL0ITo6OjJ+a921a5def/11DRky\n",
              "RCNHjvQxWXbV1dVp5cqVeu6551RcXKzm5mZJUmlpqcLhsM/psmvhwoWqra3VyJEjFYvFtHLlSv3+\n",
              "97/X2rVr/Y6WVcXFxYfNUSsqKtLQoUMH3Ny1W2+9VRdeeKGqqqr0zjvvaPHixTIMQ1dccYXf0bLu\n",
              "5ptv1llnnaW7775bn/vc5/THP/5RDz30kB566CG/o/WJVCqlRx99VFdfffWA3WLiwgsv1F133aWR\n",
              "I0eqpqZGW7Zs0X333adrr73W72h9Yu3atUqn0zr55JPV2Nior33ta6qurtYXvvAFv6N54/dYYa77\n",
              "3e9+l5Z02OPqq6/2O1pW9fQeJaUfffRRv6Nl3bXXXpuuqqpKB4PBdFlZWfqcc85J//rXv/Y71nEx\n",
              "UOc4XXbZZelhw4alg8Fg+qMf/Wj6sssuSzc2Nvodq888//zz6YkTJ6Yty0pXV1enH3roIb8j9Zm1\n",
              "a9emJaV37Njhd5Q+097env7qV7+aHjlyZDoUCqVPOumk9De/+c20bdt+R+sTTz75ZPqkk05KB4PB\n",
              "dGVlZbquri598OBBv2N5VpBOD9CtSQEAALKMOU4AAAAeUZwAAAA8ojgBAAB4RHECAADwiOIEAADg\n",
              "EcUJAADAI4oTAACARxQnAAAAjyhOAAAAHlGcAPQb11xzjS6++OLDjv/+979XQUGBDh48eNwzAcgv\n",
              "FCcA8CCZTPodAUAOoDgBGHB+9rOfqaamRpZladSoUfr+97+fcb6goEDPPvtsxrFBgwZp+fLlkqTd\n",
              "u3eroKBATz75pD75yU8qFArp8ccfV1NTky688EINHjxYRUVFqqmp0a9+9avj9K4A5ALT7wAAkE2b\n",
              "N2/W5z73OX3rW9/SZZddpldffVVf+cpXNHToUF1zzTVH9VoLFizQ97//fU2aNEmhUEhf+tKXlEgk\n",
              "9NJLL6moqEjbt29XJBLpmzcCICdRnAD0Ky+88MJhZcV13e7/vu+++3TOOedo0aJFkqTx48dr+/bt\n",
              "+u53v3vUxWnevHmaOXNm98d79uzRrFmzdMopp0iSTjrppF6+CwD9FUN1APqVT3/603r99dczHj/5\n",
              "yU+6z//lL3/RtGnTMj5n2rRp2rlzZ0bB8uKMM87I+Pimm27SnXfeqWnTpmnx4sX685//3Ps3AqBf\n",
              "ojgB6FeKioo0duzYjMdHP/rRo3qNgoICpdPpjGM9Tf4uKirK+PiLX/yi3n77bV111VV68803dcYZ\n",
              "Z+iHP/zh0b8JAP0WxQnAgDJhwgS98sorGcdeeeUVjR8/XoZhSJLKysr07rvvdp/fuXOn3n//fU+v\n",
              "P2LECF1//fX6+c9/rvnz5+vhhx/OXngAOY85TgAGlPnz5+vMM8/UHXfcocsuu0wNDQ1aunSpli1b\n",
              "1v2cz3zmM1q6dKmi0ahc19XXv/51BQKBD33tefPmqba2VuPHj9eBAwf0u9/9ThMmTOjLtwMgx3DF\n",
              "CcCAcvrpp+upp57SE088oYkTJ+q2227Tt7/97YyJ4d///vc1YsQIffzjH9eVV16pW2+9VR/5yEc+\n",
              "9LVd11VdXZ0mTJig888/X+PHj88oZAAGvoL0vw70AwAAoEdccQIAAPCI4gQAAOARxQkAAMAjihMA\n",
              "AIBHFCcAAACPKE4AAAAeUZwAAAA8ojgBAAB4RHECAADwiOIEAADgEcUJAADAI4oTAACAR/8/fq8+\n",
              "ZPPm43AAAAAASUVORK5CYII=\n",
              "\">\n",
              "        <script></script>"
            ],
            "text/plain": [
              "<google.colab._quickchart_lib.MplChart at 0x7a0421aa7b20>"
            ]
          },
          "metadata": {},
          "execution_count": 8
        }
      ]
    },
    {
      "cell_type": "markdown",
      "source": [
        "###Data splitting"
      ],
      "metadata": {
        "id": "DuNXL-339XVL"
      }
    },
    {
      "cell_type": "code",
      "source": [
        "x=data[[\"Hours\"]]\n",
        "y=data[\"Scores\"]\n",
        "\n",
        "from sklearn.model_selection import train_test_split\n",
        "x_train,x_test,y_train,y_test=train_test_split(x,y,test_size=0.7,random_state=0)\n",
        "x_train.shape,y_train.shape,x_test.shape,y_test.shape"
      ],
      "metadata": {
        "colab": {
          "base_uri": "https://localhost:8080/"
        },
        "id": "us-b9TBB6SB4",
        "outputId": "333a51a1-f437-464b-f42e-cd5a09d1cceb"
      },
      "execution_count": 13,
      "outputs": [
        {
          "output_type": "execute_result",
          "data": {
            "text/plain": [
              "((7, 1), (7,), (18, 1), (18,))"
            ]
          },
          "metadata": {},
          "execution_count": 13
        }
      ]
    },
    {
      "cell_type": "markdown",
      "source": [
        "###Importing and Deploying supervised learning model (Linear Regression)"
      ],
      "metadata": {
        "id": "-FcGOAxI9cdV"
      }
    },
    {
      "cell_type": "code",
      "source": [
        "#Importing the linear regression model\n",
        "from sklearn.linear_model import LinearRegression\n",
        "model = LinearRegression()"
      ],
      "metadata": {
        "id": "G8RqEYkc618P"
      },
      "execution_count": 14,
      "outputs": []
    },
    {
      "cell_type": "code",
      "source": [
        "#Training the model\n",
        "model.fit(x_train,y_train)"
      ],
      "metadata": {
        "colab": {
          "base_uri": "https://localhost:8080/",
          "height": 75
        },
        "id": "YCl_PmHf63CZ",
        "outputId": "be51390e-3f28-458b-e233-a3e4f77e5872"
      },
      "execution_count": 15,
      "outputs": [
        {
          "output_type": "execute_result",
          "data": {
            "text/plain": [
              "LinearRegression()"
            ],
            "text/html": [
              "<style>#sk-container-id-1 {color: black;background-color: white;}#sk-container-id-1 pre{padding: 0;}#sk-container-id-1 div.sk-toggleable {background-color: white;}#sk-container-id-1 label.sk-toggleable__label {cursor: pointer;display: block;width: 100%;margin-bottom: 0;padding: 0.3em;box-sizing: border-box;text-align: center;}#sk-container-id-1 label.sk-toggleable__label-arrow:before {content: \"▸\";float: left;margin-right: 0.25em;color: #696969;}#sk-container-id-1 label.sk-toggleable__label-arrow:hover:before {color: black;}#sk-container-id-1 div.sk-estimator:hover label.sk-toggleable__label-arrow:before {color: black;}#sk-container-id-1 div.sk-toggleable__content {max-height: 0;max-width: 0;overflow: hidden;text-align: left;background-color: #f0f8ff;}#sk-container-id-1 div.sk-toggleable__content pre {margin: 0.2em;color: black;border-radius: 0.25em;background-color: #f0f8ff;}#sk-container-id-1 input.sk-toggleable__control:checked~div.sk-toggleable__content {max-height: 200px;max-width: 100%;overflow: auto;}#sk-container-id-1 input.sk-toggleable__control:checked~label.sk-toggleable__label-arrow:before {content: \"▾\";}#sk-container-id-1 div.sk-estimator input.sk-toggleable__control:checked~label.sk-toggleable__label {background-color: #d4ebff;}#sk-container-id-1 div.sk-label input.sk-toggleable__control:checked~label.sk-toggleable__label {background-color: #d4ebff;}#sk-container-id-1 input.sk-hidden--visually {border: 0;clip: rect(1px 1px 1px 1px);clip: rect(1px, 1px, 1px, 1px);height: 1px;margin: -1px;overflow: hidden;padding: 0;position: absolute;width: 1px;}#sk-container-id-1 div.sk-estimator {font-family: monospace;background-color: #f0f8ff;border: 1px dotted black;border-radius: 0.25em;box-sizing: border-box;margin-bottom: 0.5em;}#sk-container-id-1 div.sk-estimator:hover {background-color: #d4ebff;}#sk-container-id-1 div.sk-parallel-item::after {content: \"\";width: 100%;border-bottom: 1px solid gray;flex-grow: 1;}#sk-container-id-1 div.sk-label:hover label.sk-toggleable__label {background-color: #d4ebff;}#sk-container-id-1 div.sk-serial::before {content: \"\";position: absolute;border-left: 1px solid gray;box-sizing: border-box;top: 0;bottom: 0;left: 50%;z-index: 0;}#sk-container-id-1 div.sk-serial {display: flex;flex-direction: column;align-items: center;background-color: white;padding-right: 0.2em;padding-left: 0.2em;position: relative;}#sk-container-id-1 div.sk-item {position: relative;z-index: 1;}#sk-container-id-1 div.sk-parallel {display: flex;align-items: stretch;justify-content: center;background-color: white;position: relative;}#sk-container-id-1 div.sk-item::before, #sk-container-id-1 div.sk-parallel-item::before {content: \"\";position: absolute;border-left: 1px solid gray;box-sizing: border-box;top: 0;bottom: 0;left: 50%;z-index: -1;}#sk-container-id-1 div.sk-parallel-item {display: flex;flex-direction: column;z-index: 1;position: relative;background-color: white;}#sk-container-id-1 div.sk-parallel-item:first-child::after {align-self: flex-end;width: 50%;}#sk-container-id-1 div.sk-parallel-item:last-child::after {align-self: flex-start;width: 50%;}#sk-container-id-1 div.sk-parallel-item:only-child::after {width: 0;}#sk-container-id-1 div.sk-dashed-wrapped {border: 1px dashed gray;margin: 0 0.4em 0.5em 0.4em;box-sizing: border-box;padding-bottom: 0.4em;background-color: white;}#sk-container-id-1 div.sk-label label {font-family: monospace;font-weight: bold;display: inline-block;line-height: 1.2em;}#sk-container-id-1 div.sk-label-container {text-align: center;}#sk-container-id-1 div.sk-container {/* jupyter's `normalize.less` sets `[hidden] { display: none; }` but bootstrap.min.css set `[hidden] { display: none !important; }` so we also need the `!important` here to be able to override the default hidden behavior on the sphinx rendered scikit-learn.org. See: https://github.com/scikit-learn/scikit-learn/issues/21755 */display: inline-block !important;position: relative;}#sk-container-id-1 div.sk-text-repr-fallback {display: none;}</style><div id=\"sk-container-id-1\" class=\"sk-top-container\"><div class=\"sk-text-repr-fallback\"><pre>LinearRegression()</pre><b>In a Jupyter environment, please rerun this cell to show the HTML representation or trust the notebook. <br />On GitHub, the HTML representation is unable to render, please try loading this page with nbviewer.org.</b></div><div class=\"sk-container\" hidden><div class=\"sk-item\"><div class=\"sk-estimator sk-toggleable\"><input class=\"sk-toggleable__control sk-hidden--visually\" id=\"sk-estimator-id-1\" type=\"checkbox\" checked><label for=\"sk-estimator-id-1\" class=\"sk-toggleable__label sk-toggleable__label-arrow\">LinearRegression</label><div class=\"sk-toggleable__content\"><pre>LinearRegression()</pre></div></div></div></div></div>"
            ]
          },
          "metadata": {},
          "execution_count": 15
        }
      ]
    },
    {
      "cell_type": "code",
      "source": [
        "#Deploying model on testing data\n",
        "y_pred=model.predict(x_test)\n",
        "print(x_test)"
      ],
      "metadata": {
        "colab": {
          "base_uri": "https://localhost:8080/"
        },
        "id": "9T8g4Yso7COG",
        "outputId": "8716d1a6-725b-4606-f35a-d5103f8b40ce"
      },
      "execution_count": 16,
      "outputs": [
        {
          "output_type": "stream",
          "name": "stdout",
          "text": [
            "    Hours\n",
            "5     1.5\n",
            "2     3.2\n",
            "19    7.4\n",
            "16    2.5\n",
            "11    5.9\n",
            "22    3.8\n",
            "17    1.9\n",
            "24    7.8\n",
            "23    6.9\n",
            "14    1.1\n",
            "1     5.1\n",
            "10    7.7\n",
            "13    3.3\n",
            "8     8.3\n",
            "6     9.2\n",
            "18    6.1\n",
            "4     3.5\n",
            "9     2.7\n"
          ]
        }
      ]
    },
    {
      "cell_type": "code",
      "source": [
        "#Visualizing the results\n",
        "plt.scatter(x_test,y_test)\n",
        "plt.plot(x_test,y_pred, color=\"red\")\n",
        "plt.title(\"Actual VS Predicted\",color=\"green\")\n",
        "plt.xlabel(\"Hours\",color=\"gold\")\n",
        "plt.ylabel(\"Percentage Scored\",color=\"brown\")\n",
        "plt.show()"
      ],
      "metadata": {
        "colab": {
          "base_uri": "https://localhost:8080/",
          "height": 472
        },
        "id": "TFBm6THU7G8p",
        "outputId": "ccbd1348-a253-46be-d849-39289d106d51"
      },
      "execution_count": 17,
      "outputs": [
        {
          "output_type": "display_data",
          "data": {
            "text/plain": [
              "<Figure size 640x480 with 1 Axes>"
            ],
            "image/png": "[encoded data removed]"
          },
          "metadata": {}
        }
      ]
    },
    {
      "cell_type": "markdown",
      "source": [
        "###Results"
      ],
      "metadata": {
        "id": "Ooedwkdu91_t"
      }
    },
    {
      "cell_type": "code",
      "source": [
        "#Predicting the required value as per the problem statement\n",
        "model.predict([[9.25]])"
      ],
      "metadata": {
        "colab": {
          "base_uri": "https://localhost:8080/"
        },
        "id": "_L_jGHqp7O_z",
        "outputId": "505fa31d-a945-46b2-89cb-93fe28726c32"
      },
      "execution_count": 26,
      "outputs": [
        {
          "output_type": "stream",
          "name": "stderr",
          "text": [
            "/usr/local/lib/python3.10/dist-packages/sklearn/base.py:439: UserWarning: X does not have valid feature names, but LinearRegression was fitted with feature names\n",
            "  warnings.warn(\n"
          ]
        },
        {
          "output_type": "execute_result",
          "data": {
            "text/plain": [
              "array([92.19175707])"
            ]
          },
          "metadata": {},
          "execution_count": 26
        }
      ]
    },
    {
      "cell_type": "code",
      "source": [
        "#Accuracy of Linear Regression on the given dataset in terms of Mean Absolute Error\n",
        "from sklearn import metrics\n",
        "metrics.mean_absolute_error(y_test,y_pred)"
      ],
      "metadata": {
        "colab": {
          "base_uri": "https://localhost:8080/"
        },
        "id": "uSmI_nwO84W9",
        "outputId": "06b06ffe-1782-4950-e631-9879ca41f687"
      },
      "execution_count": 28,
      "outputs": [
        {
          "output_type": "execute_result",
          "data": {
            "text/plain": [
              "5.0017874859583955"
            ]
          },
          "metadata": {},
          "execution_count": 28
        }
      ]
    },
    {
      "cell_type": "code",
      "source": [
        "#Extrapolation (signifies that the model fails to predict correctly for students studying over 10 hours daily)\n",
        "model.predict([[10.1]])"
      ],
      "metadata": {
        "colab": {
          "base_uri": "https://localhost:8080/"
        },
        "id": "biC5AAWU9H4k",
        "outputId": "8f9e6597-1c4b-4552-bcd2-ef9c21ca2cb4"
      },
      "execution_count": 32,
      "outputs": [
        {
          "output_type": "stream",
          "name": "stderr",
          "text": [
            "/usr/local/lib/python3.10/dist-packages/sklearn/base.py:439: UserWarning: X does not have valid feature names, but LinearRegression was fitted with feature names\n",
            "  warnings.warn(\n"
          ]
        },
        {
          "output_type": "execute_result",
          "data": {
            "text/plain": [
              "array([100.56254151])"
            ]
          },
          "metadata": {},
          "execution_count": 32
        }
      ]
    },
    {
      "cell_type": "markdown",
      "source": [
        "###Trying Logistic regression to overcome the problem we just discovered"
      ],
      "metadata": {
        "id": "x_9Beo5A-xN2"
      }
    },
    {
      "cell_type": "code",
      "source": [
        "#Importing the logistic regression model\n",
        "from sklearn.linear_model import LogisticRegression\n",
        "model2 = LogisticRegression()"
      ],
      "metadata": {
        "id": "BMfuZ9Ev-wma"
      },
      "execution_count": 45,
      "outputs": []
    },
    {
      "cell_type": "code",
      "source": [
        "#Training the model\n",
        "model2.fit(x_train,y_train)"
      ],
      "metadata": {
        "colab": {
          "base_uri": "https://localhost:8080/",
          "height": 75
        },
        "id": "tNfmIj_g-_vK",
        "outputId": "88d9fc63-0605-4db3-d5a0-a767933673d3"
      },
      "execution_count": 46,
      "outputs": [
        {
          "output_type": "execute_result",
          "data": {
            "text/plain": [
              "LogisticRegression()"
            ],
            "text/html": [
              "<style>#sk-container-id-3 {color: black;background-color: white;}#sk-container-id-3 pre{padding: 0;}#sk-container-id-3 div.sk-toggleable {background-color: white;}#sk-container-id-3 label.sk-toggleable__label {cursor: pointer;display: block;width: 100%;margin-bottom: 0;padding: 0.3em;box-sizing: border-box;text-align: center;}#sk-container-id-3 label.sk-toggleable__label-arrow:before {content: \"▸\";float: left;margin-right: 0.25em;color: #696969;}#sk-container-id-3 label.sk-toggleable__label-arrow:hover:before {color: black;}#sk-container-id-3 div.sk-estimator:hover label.sk-toggleable__label-arrow:before {color: black;}#sk-container-id-3 div.sk-toggleable__content {max-height: 0;max-width: 0;overflow: hidden;text-align: left;background-color: #f0f8ff;}#sk-container-id-3 div.sk-toggleable__content pre {margin: 0.2em;color: black;border-radius: 0.25em;background-color: #f0f8ff;}#sk-container-id-3 input.sk-toggleable__control:checked~div.sk-toggleable__content {max-height: 200px;max-width: 100%;overflow: auto;}#sk-container-id-3 input.sk-toggleable__control:checked~label.sk-toggleable__label-arrow:before {content: \"▾\";}#sk-container-id-3 div.sk-estimator input.sk-toggleable__control:checked~label.sk-toggleable__label {background-color: #d4ebff;}#sk-container-id-3 div.sk-label input.sk-toggleable__control:checked~label.sk-toggleable__label {background-color: #d4ebff;}#sk-container-id-3 input.sk-hidden--visually {border: 0;clip: rect(1px 1px 1px 1px);clip: rect(1px, 1px, 1px, 1px);height: 1px;margin: -1px;overflow: hidden;padding: 0;position: absolute;width: 1px;}#sk-container-id-3 div.sk-estimator {font-family: monospace;background-color: #f0f8ff;border: 1px dotted black;border-radius: 0.25em;box-sizing: border-box;margin-bottom: 0.5em;}#sk-container-id-3 div.sk-estimator:hover {background-color: #d4ebff;}#sk-container-id-3 div.sk-parallel-item::after {content: \"\";width: 100%;border-bottom: 1px solid gray;flex-grow: 1;}#sk-container-id-3 div.sk-label:hover label.sk-toggleable__label {background-color: #d4ebff;}#sk-container-id-3 div.sk-serial::before {content: \"\";position: absolute;border-left: 1px solid gray;box-sizing: border-box;top: 0;bottom: 0;left: 50%;z-index: 0;}#sk-container-id-3 div.sk-serial {display: flex;flex-direction: column;align-items: center;background-color: white;padding-right: 0.2em;padding-left: 0.2em;position: relative;}#sk-container-id-3 div.sk-item {position: relative;z-index: 1;}#sk-container-id-3 div.sk-parallel {display: flex;align-items: stretch;justify-content: center;background-color: white;position: relative;}#sk-container-id-3 div.sk-item::before, #sk-container-id-3 div.sk-parallel-item::before {content: \"\";position: absolute;border-left: 1px solid gray;box-sizing: border-box;top: 0;bottom: 0;left: 50%;z-index: -1;}#sk-container-id-3 div.sk-parallel-item {display: flex;flex-direction: column;z-index: 1;position: relative;background-color: white;}#sk-container-id-3 div.sk-parallel-item:first-child::after {align-self: flex-end;width: 50%;}#sk-container-id-3 div.sk-parallel-item:last-child::after {align-self: flex-start;width: 50%;}#sk-container-id-3 div.sk-parallel-item:only-child::after {width: 0;}#sk-container-id-3 div.sk-dashed-wrapped {border: 1px dashed gray;margin: 0 0.4em 0.5em 0.4em;box-sizing: border-box;padding-bottom: 0.4em;background-color: white;}#sk-container-id-3 div.sk-label label {font-family: monospace;font-weight: bold;display: inline-block;line-height: 1.2em;}#sk-container-id-3 div.sk-label-container {text-align: center;}#sk-container-id-3 div.sk-container {/* jupyter's `normalize.less` sets `[hidden] { display: none; }` but bootstrap.min.css set `[hidden] { display: none !important; }` so we also need the `!important` here to be able to override the default hidden behavior on the sphinx rendered scikit-learn.org. See: https://github.com/scikit-learn/scikit-learn/issues/21755 */display: inline-block !important;position: relative;}#sk-container-id-3 div.sk-text-repr-fallback {display: none;}</style><div id=\"sk-container-id-3\" class=\"sk-top-container\"><div class=\"sk-text-repr-fallback\"><pre>LogisticRegression()</pre><b>In a Jupyter environment, please rerun this cell to show the HTML representation or trust the notebook. <br />On GitHub, the HTML representation is unable to render, please try loading this page with nbviewer.org.</b></div><div class=\"sk-container\" hidden><div class=\"sk-item\"><div class=\"sk-estimator sk-toggleable\"><input class=\"sk-toggleable__control sk-hidden--visually\" id=\"sk-estimator-id-3\" type=\"checkbox\" checked><label for=\"sk-estimator-id-3\" class=\"sk-toggleable__label sk-toggleable__label-arrow\">LogisticRegression</label><div class=\"sk-toggleable__content\"><pre>LogisticRegression()</pre></div></div></div></div></div>"
            ]
          },
          "metadata": {},
          "execution_count": 46
        }
      ]
    },
    {
      "cell_type": "code",
      "source": [
        "#Deploying model on testing data\n",
        "y_pred=model2.predict(x_test)\n",
        "print(x_test)"
      ],
      "metadata": {
        "colab": {
          "base_uri": "https://localhost:8080/"
        },
        "id": "YoQE54UU_FcA",
        "outputId": "109f3695-4682-427f-d97a-7d10eb23ca94"
      },
      "execution_count": 47,
      "outputs": [
        {
          "output_type": "stream",
          "name": "stdout",
          "text": [
            "    Hours\n",
            "5     1.5\n",
            "2     3.2\n",
            "19    7.4\n",
            "16    2.5\n",
            "11    5.9\n",
            "22    3.8\n",
            "17    1.9\n",
            "24    7.8\n",
            "23    6.9\n",
            "14    1.1\n",
            "1     5.1\n",
            "10    7.7\n",
            "13    3.3\n",
            "8     8.3\n",
            "6     9.2\n",
            "18    6.1\n",
            "4     3.5\n",
            "9     2.7\n"
          ]
        }
      ]
    },
    {
      "cell_type": "code",
      "source": [
        "#Visualizing the results\n",
        "plt.scatter(x_test,y_test)\n",
        "plt.plot(x_test,y_pred, color=\"red\")\n",
        "plt.title(\"Actual VS Predicted\",color=\"green\")\n",
        "plt.xlabel(\"Hours\",color=\"gold\")\n",
        "plt.ylabel(\"Percentage Scored\",color=\"brown\")\n",
        "plt.show()"
      ],
      "metadata": {
        "colab": {
          "base_uri": "https://localhost:8080/",
          "height": 472
        },
        "id": "N6vmDmU6_W1H",
        "outputId": "818c0fd2-0616-455f-afc8-1b2973f2706a"
      },
      "execution_count": 37,
      "outputs": [
        {
          "output_type": "display_data",
          "data": {
            "text/plain": [
              "<Figure size 640x480 with 1 Axes>"
            ],
            "image/png": "[encoded data removed]"
          },
          "metadata": {}
        }
      ]
    },
    {
      "cell_type": "code",
      "source": [
        "model2.predict([[6.7]])"
      ],
      "metadata": {
        "colab": {
          "base_uri": "https://localhost:8080/"
        },
        "id": "Qe4mGmFgAY1A",
        "outputId": "ae2b2780-e034-4ff4-9274-74aae9fbbf94"
      },
      "execution_count": 61,
      "outputs": [
        {
          "output_type": "stream",
          "name": "stderr",
          "text": [
            "/usr/local/lib/python3.10/dist-packages/sklearn/base.py:439: UserWarning: X does not have valid feature names, but LogisticRegression was fitted with feature names\n",
            "  warnings.warn(\n"
          ]
        },
        {
          "output_type": "execute_result",
          "data": {
            "text/plain": [
              "array([75])"
            ]
          },
          "metadata": {},
          "execution_count": 61
        }
      ]
    },
    {
      "cell_type": "code",
      "source": [
        "model2.predict([[9.25]])"
      ],
      "metadata": {
        "colab": {
          "base_uri": "https://localhost:8080/"
        },
        "id": "-j77F135_dAl",
        "outputId": "bb273d32-adcf-4ff5-941d-b547ec820e63"
      },
      "execution_count": 48,
      "outputs": [
        {
          "output_type": "stream",
          "name": "stderr",
          "text": [
            "/usr/local/lib/python3.10/dist-packages/sklearn/base.py:439: UserWarning: X does not have valid feature names, but LogisticRegression was fitted with feature names\n",
            "  warnings.warn(\n"
          ]
        },
        {
          "output_type": "execute_result",
          "data": {
            "text/plain": [
              "array([95])"
            ]
          },
          "metadata": {},
          "execution_count": 48
        }
      ]
    },
    {
      "cell_type": "code",
      "source": [
        "model2.predict([[15]])"
      ],
      "metadata": {
        "colab": {
          "base_uri": "https://localhost:8080/"
        },
        "id": "hEUU7-Ip_pdI",
        "outputId": "bbb8e57a-630d-4078-f93c-4ed87626d990"
      },
      "execution_count": 54,
      "outputs": [
        {
          "output_type": "stream",
          "name": "stderr",
          "text": [
            "/usr/local/lib/python3.10/dist-packages/sklearn/base.py:439: UserWarning: X does not have valid feature names, but LogisticRegression was fitted with feature names\n",
            "  warnings.warn(\n"
          ]
        },
        {
          "output_type": "execute_result",
          "data": {
            "text/plain": [
              "array([95])"
            ]
          },
          "metadata": {},
          "execution_count": 54
        }
      ]
    },
    {
      "cell_type": "markdown",
      "source": [
        "###Conclusion: Logistic regression needs a lot more data points but provides a capping value of 95/100, whereas linear regression provides better results but fails to provide a capping value of scores."
      ],
      "metadata": {
        "id": "t78JiWUCBEFz"
      }
    }
  ]
}